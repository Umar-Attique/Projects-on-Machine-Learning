{
 "cells": [
  {
   "cell_type": "markdown",
   "metadata": {},
   "source": [
    "# Importing the libraries"
   ]
  },
  {
   "cell_type": "code",
   "execution_count": 1,
   "metadata": {},
   "outputs": [],
   "source": [
    "import pandas as pd\n",
    "import warnings\n",
    "import numpy as np\n",
    "import seaborn as sns\n",
    "import matplotlib.pyplot as plt\n",
    "import sklearn\n",
    "import warnings \n",
    "warnings.filterwarnings('ignore')\n",
    "import plotly.express as px"
   ]
  },
  {
   "cell_type": "code",
   "execution_count": 2,
   "metadata": {},
   "outputs": [],
   "source": [
    "pd.set_option('display.max_rows',None)\n",
    "pd.set_option('display.max_columns',None)\n",
    "warnings.filterwarnings('ignore')"
   ]
  },
  {
   "cell_type": "markdown",
   "metadata": {},
   "source": [
    "# Loading the dataset"
   ]
  },
  {
   "cell_type": "code",
   "execution_count": 3,
   "metadata": {},
   "outputs": [],
   "source": [
    "df=pd.read_csv('C:/Intel/Entities.csv')"
   ]
  },
  {
   "cell_type": "code",
   "execution_count": 4,
   "metadata": {},
   "outputs": [
    {
     "data": {
      "text/plain": [
       "(168446, 18)"
      ]
     },
     "execution_count": 4,
     "metadata": {},
     "output_type": "execute_result"
    }
   ],
   "source": [
    "df.shape"
   ]
  },
  {
   "cell_type": "code",
   "execution_count": 5,
   "metadata": {},
   "outputs": [
    {
     "data": {
      "text/html": [
       "<div>\n",
       "<style scoped>\n",
       "    .dataframe tbody tr th:only-of-type {\n",
       "        vertical-align: middle;\n",
       "    }\n",
       "\n",
       "    .dataframe tbody tr th {\n",
       "        vertical-align: top;\n",
       "    }\n",
       "\n",
       "    .dataframe thead th {\n",
       "        text-align: right;\n",
       "    }\n",
       "</style>\n",
       "<table border=\"1\" class=\"dataframe\">\n",
       "  <thead>\n",
       "    <tr style=\"text-align: right;\">\n",
       "      <th></th>\n",
       "      <th>Unnamed: 0</th>\n",
       "      <th>property_id</th>\n",
       "      <th>location_id</th>\n",
       "      <th>page_url</th>\n",
       "      <th>property_type</th>\n",
       "      <th>price</th>\n",
       "      <th>location</th>\n",
       "      <th>city</th>\n",
       "      <th>province_name</th>\n",
       "      <th>latitude</th>\n",
       "      <th>longitude</th>\n",
       "      <th>baths</th>\n",
       "      <th>purpose</th>\n",
       "      <th>bedrooms</th>\n",
       "      <th>date_added</th>\n",
       "      <th>agency</th>\n",
       "      <th>agent</th>\n",
       "      <th>Total_Area</th>\n",
       "    </tr>\n",
       "  </thead>\n",
       "  <tbody>\n",
       "    <tr>\n",
       "      <th>0</th>\n",
       "      <td>0</td>\n",
       "      <td>237062</td>\n",
       "      <td>3325</td>\n",
       "      <td>https://www.zameen.com/Property/g_10_g_10_2_gr...</td>\n",
       "      <td>Flat</td>\n",
       "      <td>10000000</td>\n",
       "      <td>G-10</td>\n",
       "      <td>Islamabad</td>\n",
       "      <td>Islamabad Capital</td>\n",
       "      <td>33.679890</td>\n",
       "      <td>73.012640</td>\n",
       "      <td>2</td>\n",
       "      <td>For Sale</td>\n",
       "      <td>2</td>\n",
       "      <td>2/4/2019</td>\n",
       "      <td>NaN</td>\n",
       "      <td>NaN</td>\n",
       "      <td>1089.004</td>\n",
       "    </tr>\n",
       "    <tr>\n",
       "      <th>1</th>\n",
       "      <td>1</td>\n",
       "      <td>346905</td>\n",
       "      <td>3236</td>\n",
       "      <td>https://www.zameen.com/Property/e_11_2_service...</td>\n",
       "      <td>Flat</td>\n",
       "      <td>6900000</td>\n",
       "      <td>E-11</td>\n",
       "      <td>Islamabad</td>\n",
       "      <td>Islamabad Capital</td>\n",
       "      <td>33.700993</td>\n",
       "      <td>72.971492</td>\n",
       "      <td>3</td>\n",
       "      <td>For Sale</td>\n",
       "      <td>3</td>\n",
       "      <td>5/4/2019</td>\n",
       "      <td>NaN</td>\n",
       "      <td>NaN</td>\n",
       "      <td>15246.056</td>\n",
       "    </tr>\n",
       "    <tr>\n",
       "      <th>2</th>\n",
       "      <td>2</td>\n",
       "      <td>386513</td>\n",
       "      <td>764</td>\n",
       "      <td>https://www.zameen.com/Property/islamabad_g_15...</td>\n",
       "      <td>House</td>\n",
       "      <td>16500000</td>\n",
       "      <td>G-15</td>\n",
       "      <td>Islamabad</td>\n",
       "      <td>Islamabad Capital</td>\n",
       "      <td>33.631486</td>\n",
       "      <td>72.926559</td>\n",
       "      <td>6</td>\n",
       "      <td>For Sale</td>\n",
       "      <td>5</td>\n",
       "      <td>7/17/2019</td>\n",
       "      <td>NaN</td>\n",
       "      <td>NaN</td>\n",
       "      <td>2178.008</td>\n",
       "    </tr>\n",
       "    <tr>\n",
       "      <th>3</th>\n",
       "      <td>3</td>\n",
       "      <td>656161</td>\n",
       "      <td>340</td>\n",
       "      <td>https://www.zameen.com/Property/islamabad_bani...</td>\n",
       "      <td>House</td>\n",
       "      <td>43500000</td>\n",
       "      <td>Bani Gala</td>\n",
       "      <td>Islamabad</td>\n",
       "      <td>Islamabad Capital</td>\n",
       "      <td>33.707573</td>\n",
       "      <td>73.151199</td>\n",
       "      <td>4</td>\n",
       "      <td>For Sale</td>\n",
       "      <td>4</td>\n",
       "      <td>4/5/2019</td>\n",
       "      <td>NaN</td>\n",
       "      <td>NaN</td>\n",
       "      <td>10890.000</td>\n",
       "    </tr>\n",
       "    <tr>\n",
       "      <th>4</th>\n",
       "      <td>4</td>\n",
       "      <td>841645</td>\n",
       "      <td>3226</td>\n",
       "      <td>https://www.zameen.com/Property/dha_valley_dha...</td>\n",
       "      <td>House</td>\n",
       "      <td>7000000</td>\n",
       "      <td>DHA Defence</td>\n",
       "      <td>Islamabad</td>\n",
       "      <td>Islamabad Capital</td>\n",
       "      <td>33.492591</td>\n",
       "      <td>73.301339</td>\n",
       "      <td>3</td>\n",
       "      <td>For Sale</td>\n",
       "      <td>3</td>\n",
       "      <td>7/10/2019</td>\n",
       "      <td>Easy Property</td>\n",
       "      <td>Muhammad Junaid Ceo Muhammad Shahid Director</td>\n",
       "      <td>2178.008</td>\n",
       "    </tr>\n",
       "  </tbody>\n",
       "</table>\n",
       "</div>"
      ],
      "text/plain": [
       "   Unnamed: 0  property_id  location_id  \\\n",
       "0           0       237062         3325   \n",
       "1           1       346905         3236   \n",
       "2           2       386513          764   \n",
       "3           3       656161          340   \n",
       "4           4       841645         3226   \n",
       "\n",
       "                                            page_url property_type     price  \\\n",
       "0  https://www.zameen.com/Property/g_10_g_10_2_gr...          Flat  10000000   \n",
       "1  https://www.zameen.com/Property/e_11_2_service...          Flat   6900000   \n",
       "2  https://www.zameen.com/Property/islamabad_g_15...         House  16500000   \n",
       "3  https://www.zameen.com/Property/islamabad_bani...         House  43500000   \n",
       "4  https://www.zameen.com/Property/dha_valley_dha...         House   7000000   \n",
       "\n",
       "      location       city      province_name   latitude  longitude  baths  \\\n",
       "0         G-10  Islamabad  Islamabad Capital  33.679890  73.012640      2   \n",
       "1         E-11  Islamabad  Islamabad Capital  33.700993  72.971492      3   \n",
       "2         G-15  Islamabad  Islamabad Capital  33.631486  72.926559      6   \n",
       "3    Bani Gala  Islamabad  Islamabad Capital  33.707573  73.151199      4   \n",
       "4  DHA Defence  Islamabad  Islamabad Capital  33.492591  73.301339      3   \n",
       "\n",
       "    purpose  bedrooms date_added         agency  \\\n",
       "0  For Sale         2   2/4/2019            NaN   \n",
       "1  For Sale         3   5/4/2019            NaN   \n",
       "2  For Sale         5  7/17/2019            NaN   \n",
       "3  For Sale         4   4/5/2019            NaN   \n",
       "4  For Sale         3  7/10/2019  Easy Property   \n",
       "\n",
       "                                          agent  Total_Area  \n",
       "0                                           NaN    1089.004  \n",
       "1                                           NaN   15246.056  \n",
       "2                                           NaN    2178.008  \n",
       "3                                           NaN   10890.000  \n",
       "4  Muhammad Junaid Ceo Muhammad Shahid Director    2178.008  "
      ]
     },
     "execution_count": 5,
     "metadata": {},
     "output_type": "execute_result"
    }
   ],
   "source": [
    "df.head()"
   ]
  },
  {
   "cell_type": "code",
   "execution_count": 6,
   "metadata": {},
   "outputs": [
    {
     "name": "stdout",
     "output_type": "stream",
     "text": [
      "<class 'pandas.core.frame.DataFrame'>\n",
      "RangeIndex: 168446 entries, 0 to 168445\n",
      "Data columns (total 18 columns):\n",
      " #   Column         Non-Null Count   Dtype  \n",
      "---  ------         --------------   -----  \n",
      " 0   Unnamed: 0     168446 non-null  int64  \n",
      " 1   property_id    168446 non-null  int64  \n",
      " 2   location_id    168446 non-null  int64  \n",
      " 3   page_url       168446 non-null  object \n",
      " 4   property_type  168446 non-null  object \n",
      " 5   price          168446 non-null  int64  \n",
      " 6   location       168446 non-null  object \n",
      " 7   city           168446 non-null  object \n",
      " 8   province_name  168446 non-null  object \n",
      " 9   latitude       168446 non-null  float64\n",
      " 10  longitude      168446 non-null  float64\n",
      " 11  baths          168446 non-null  int64  \n",
      " 12  purpose        168446 non-null  object \n",
      " 13  bedrooms       168446 non-null  int64  \n",
      " 14  date_added     168446 non-null  object \n",
      " 15  agency         124375 non-null  object \n",
      " 16  agent          124374 non-null  object \n",
      " 17  Total_Area     168446 non-null  float64\n",
      "dtypes: float64(3), int64(6), object(9)\n",
      "memory usage: 23.1+ MB\n"
     ]
    }
   ],
   "source": [
    "df.info()"
   ]
  },
  {
   "cell_type": "markdown",
   "metadata": {},
   "source": [
    "## Check the statistics of the data"
   ]
  },
  {
   "cell_type": "code",
   "execution_count": 5,
   "metadata": {},
   "outputs": [
    {
     "data": {
      "text/html": [
       "<div>\n",
       "<style scoped>\n",
       "    .dataframe tbody tr th:only-of-type {\n",
       "        vertical-align: middle;\n",
       "    }\n",
       "\n",
       "    .dataframe tbody tr th {\n",
       "        vertical-align: top;\n",
       "    }\n",
       "\n",
       "    .dataframe thead th {\n",
       "        text-align: right;\n",
       "    }\n",
       "</style>\n",
       "<table border=\"1\" class=\"dataframe\">\n",
       "  <thead>\n",
       "    <tr style=\"text-align: right;\">\n",
       "      <th></th>\n",
       "      <th>Unnamed: 0</th>\n",
       "      <th>property_id</th>\n",
       "      <th>location_id</th>\n",
       "      <th>price</th>\n",
       "      <th>latitude</th>\n",
       "      <th>longitude</th>\n",
       "      <th>baths</th>\n",
       "      <th>bedrooms</th>\n",
       "      <th>Total_Area</th>\n",
       "    </tr>\n",
       "  </thead>\n",
       "  <tbody>\n",
       "    <tr>\n",
       "      <th>count</th>\n",
       "      <td>168446.000000</td>\n",
       "      <td>1.684460e+05</td>\n",
       "      <td>168446.000000</td>\n",
       "      <td>1.684460e+05</td>\n",
       "      <td>168446.000000</td>\n",
       "      <td>168446.000000</td>\n",
       "      <td>168446.000000</td>\n",
       "      <td>168446.000000</td>\n",
       "      <td>1.684460e+05</td>\n",
       "    </tr>\n",
       "    <tr>\n",
       "      <th>mean</th>\n",
       "      <td>84222.500000</td>\n",
       "      <td>1.559626e+07</td>\n",
       "      <td>4375.936395</td>\n",
       "      <td>1.776576e+07</td>\n",
       "      <td>29.859519</td>\n",
       "      <td>71.239804</td>\n",
       "      <td>2.874227</td>\n",
       "      <td>3.179422</td>\n",
       "      <td>1.394239e+04</td>\n",
       "    </tr>\n",
       "    <tr>\n",
       "      <th>std</th>\n",
       "      <td>48626.316059</td>\n",
       "      <td>2.251207e+06</td>\n",
       "      <td>3776.561581</td>\n",
       "      <td>3.531003e+07</td>\n",
       "      <td>3.807870</td>\n",
       "      <td>3.133042</td>\n",
       "      <td>2.463400</td>\n",
       "      <td>1.971401</td>\n",
       "      <td>8.623647e+05</td>\n",
       "    </tr>\n",
       "    <tr>\n",
       "      <th>min</th>\n",
       "      <td>0.000000</td>\n",
       "      <td>8.657500e+04</td>\n",
       "      <td>1.000000</td>\n",
       "      <td>0.000000e+00</td>\n",
       "      <td>11.052446</td>\n",
       "      <td>25.906027</td>\n",
       "      <td>0.000000</td>\n",
       "      <td>0.000000</td>\n",
       "      <td>0.000000e+00</td>\n",
       "    </tr>\n",
       "    <tr>\n",
       "      <th>25%</th>\n",
       "      <td>42111.250000</td>\n",
       "      <td>1.488320e+07</td>\n",
       "      <td>1058.000000</td>\n",
       "      <td>1.750000e+05</td>\n",
       "      <td>24.948536</td>\n",
       "      <td>67.130363</td>\n",
       "      <td>0.000000</td>\n",
       "      <td>2.000000</td>\n",
       "      <td>1.905757e+03</td>\n",
       "    </tr>\n",
       "    <tr>\n",
       "      <th>50%</th>\n",
       "      <td>84222.500000</td>\n",
       "      <td>1.665851e+07</td>\n",
       "      <td>3286.000000</td>\n",
       "      <td>8.500000e+06</td>\n",
       "      <td>31.459784</td>\n",
       "      <td>73.056182</td>\n",
       "      <td>3.000000</td>\n",
       "      <td>3.000000</td>\n",
       "      <td>4.356016e+03</td>\n",
       "    </tr>\n",
       "    <tr>\n",
       "      <th>75%</th>\n",
       "      <td>126333.750000</td>\n",
       "      <td>1.708662e+07</td>\n",
       "      <td>7220.000000</td>\n",
       "      <td>1.950000e+07</td>\n",
       "      <td>33.560887</td>\n",
       "      <td>73.259870</td>\n",
       "      <td>4.000000</td>\n",
       "      <td>4.000000</td>\n",
       "      <td>1.197904e+04</td>\n",
       "    </tr>\n",
       "    <tr>\n",
       "      <th>max</th>\n",
       "      <td>168445.000000</td>\n",
       "      <td>1.735772e+07</td>\n",
       "      <td>14220.000000</td>\n",
       "      <td>2.000000e+09</td>\n",
       "      <td>73.184088</td>\n",
       "      <td>80.161430</td>\n",
       "      <td>403.000000</td>\n",
       "      <td>68.000000</td>\n",
       "      <td>3.387988e+08</td>\n",
       "    </tr>\n",
       "  </tbody>\n",
       "</table>\n",
       "</div>"
      ],
      "text/plain": [
       "          Unnamed: 0   property_id    location_id         price  \\\n",
       "count  168446.000000  1.684460e+05  168446.000000  1.684460e+05   \n",
       "mean    84222.500000  1.559626e+07    4375.936395  1.776576e+07   \n",
       "std     48626.316059  2.251207e+06    3776.561581  3.531003e+07   \n",
       "min         0.000000  8.657500e+04       1.000000  0.000000e+00   \n",
       "25%     42111.250000  1.488320e+07    1058.000000  1.750000e+05   \n",
       "50%     84222.500000  1.665851e+07    3286.000000  8.500000e+06   \n",
       "75%    126333.750000  1.708662e+07    7220.000000  1.950000e+07   \n",
       "max    168445.000000  1.735772e+07   14220.000000  2.000000e+09   \n",
       "\n",
       "            latitude      longitude          baths       bedrooms  \\\n",
       "count  168446.000000  168446.000000  168446.000000  168446.000000   \n",
       "mean       29.859519      71.239804       2.874227       3.179422   \n",
       "std         3.807870       3.133042       2.463400       1.971401   \n",
       "min        11.052446      25.906027       0.000000       0.000000   \n",
       "25%        24.948536      67.130363       0.000000       2.000000   \n",
       "50%        31.459784      73.056182       3.000000       3.000000   \n",
       "75%        33.560887      73.259870       4.000000       4.000000   \n",
       "max        73.184088      80.161430     403.000000      68.000000   \n",
       "\n",
       "         Total_Area  \n",
       "count  1.684460e+05  \n",
       "mean   1.394239e+04  \n",
       "std    8.623647e+05  \n",
       "min    0.000000e+00  \n",
       "25%    1.905757e+03  \n",
       "50%    4.356016e+03  \n",
       "75%    1.197904e+04  \n",
       "max    3.387988e+08  "
      ]
     },
     "execution_count": 5,
     "metadata": {},
     "output_type": "execute_result"
    }
   ],
   "source": [
    "df.describe()"
   ]
  },
  {
   "cell_type": "markdown",
   "metadata": {},
   "source": [
    "## Check the column the name of the dataset"
   ]
  },
  {
   "cell_type": "code",
   "execution_count": 8,
   "metadata": {},
   "outputs": [
    {
     "data": {
      "text/plain": [
       "Index(['Unnamed: 0', 'property_id', 'location_id', 'page_url', 'property_type',\n",
       "       'price', 'location', 'city', 'province_name', 'latitude', 'longitude',\n",
       "       'baths', 'purpose', 'bedrooms', 'date_added', 'agency', 'agent',\n",
       "       'Total_Area'],\n",
       "      dtype='object')"
      ]
     },
     "execution_count": 8,
     "metadata": {},
     "output_type": "execute_result"
    }
   ],
   "source": [
    "df.columns"
   ]
  },
  {
   "cell_type": "markdown",
   "metadata": {},
   "source": [
    "### Unique values of the dataset"
   ]
  },
  {
   "cell_type": "code",
   "execution_count": 12,
   "metadata": {},
   "outputs": [
    {
     "data": {
      "text/plain": [
       "Unnamed: 0       168446\n",
       "property_id      168446\n",
       "location_id        4198\n",
       "page_url         168446\n",
       "property_type         7\n",
       "price              2077\n",
       "location           1509\n",
       "city                  5\n",
       "province_name         3\n",
       "latitude           7835\n",
       "longitude          8308\n",
       "baths                16\n",
       "purpose               2\n",
       "bedrooms             23\n",
       "date_added          124\n",
       "agency             5761\n",
       "agent             10598\n",
       "Total_Area          296\n",
       "dtype: int64"
      ]
     },
     "execution_count": 12,
     "metadata": {},
     "output_type": "execute_result"
    }
   ],
   "source": [
    "df.nunique()"
   ]
  },
  {
   "cell_type": "code",
   "execution_count": 10,
   "metadata": {},
   "outputs": [
    {
     "data": {
      "text/plain": [
       "array(['Flat', 'House', 'Penthouse', 'Farm House', 'Lower Portion',\n",
       "       'Upper Portion', 'Room'], dtype=object)"
      ]
     },
     "execution_count": 10,
     "metadata": {},
     "output_type": "execute_result"
    }
   ],
   "source": [
    "df.property_type.unique()"
   ]
  },
  {
   "cell_type": "code",
   "execution_count": 13,
   "metadata": {},
   "outputs": [
    {
     "data": {
      "text/plain": [
       "array(['Islamabad', 'Lahore', 'Faisalabad', 'Rawalpindi', 'Karachi'],\n",
       "      dtype=object)"
      ]
     },
     "execution_count": 13,
     "metadata": {},
     "output_type": "execute_result"
    }
   ],
   "source": [
    "df.city.unique()"
   ]
  },
  {
   "cell_type": "code",
   "execution_count": 12,
   "metadata": {},
   "outputs": [
    {
     "data": {
      "text/plain": [
       "array([  2,   3,   6,   4,   8,   7,   5,   0,   1,  10,   9,  11,  13,\n",
       "        12, 403,  14], dtype=int64)"
      ]
     },
     "execution_count": 12,
     "metadata": {},
     "output_type": "execute_result"
    }
   ],
   "source": [
    "df.baths.unique()"
   ]
  },
  {
   "cell_type": "code",
   "execution_count": 13,
   "metadata": {},
   "outputs": [
    {
     "data": {
      "text/plain": [
       "array(['For Sale', 'For Rent'], dtype=object)"
      ]
     },
     "execution_count": 13,
     "metadata": {},
     "output_type": "execute_result"
    }
   ],
   "source": [
    "df.purpose.unique()"
   ]
  },
  {
   "cell_type": "code",
   "execution_count": 14,
   "metadata": {},
   "outputs": [
    {
     "data": {
      "text/plain": [
       "array(['Islamabad Capital', 'Punjab', 'Sindh'], dtype=object)"
      ]
     },
     "execution_count": 14,
     "metadata": {},
     "output_type": "execute_result"
    }
   ],
   "source": [
    "df.province_name.unique()"
   ]
  },
  {
   "cell_type": "code",
   "execution_count": 14,
   "metadata": {},
   "outputs": [
    {
     "data": {
      "text/plain": [
       "array([10000000,  6900000, 16500000, ...,  9010000,  1247000,   421000])"
      ]
     },
     "execution_count": 14,
     "metadata": {},
     "output_type": "execute_result"
    }
   ],
   "source": [
    "df.price.unique()"
   ]
  },
  {
   "cell_type": "markdown",
   "metadata": {},
   "source": [
    "## Checking the null values in the dataset"
   ]
  },
  {
   "cell_type": "code",
   "execution_count": 15,
   "metadata": {},
   "outputs": [
    {
     "data": {
      "text/plain": [
       "Unnamed: 0           0\n",
       "property_id          0\n",
       "location_id          0\n",
       "page_url             0\n",
       "property_type        0\n",
       "price                0\n",
       "location             0\n",
       "city                 0\n",
       "province_name        0\n",
       "latitude             0\n",
       "longitude            0\n",
       "baths                0\n",
       "purpose              0\n",
       "bedrooms             0\n",
       "date_added           0\n",
       "agency           44071\n",
       "agent            44072\n",
       "Total_Area           0\n",
       "dtype: int64"
      ]
     },
     "execution_count": 15,
     "metadata": {},
     "output_type": "execute_result"
    }
   ],
   "source": [
    "df.isnull().sum()"
   ]
  },
  {
   "cell_type": "code",
   "execution_count": 16,
   "metadata": {},
   "outputs": [
    {
     "data": {
      "text/plain": [
       "Unnamed: 0        0.000000\n",
       "property_id       0.000000\n",
       "location_id       0.000000\n",
       "page_url          0.000000\n",
       "property_type     0.000000\n",
       "price             0.000000\n",
       "location          0.000000\n",
       "city              0.000000\n",
       "province_name     0.000000\n",
       "latitude          0.000000\n",
       "longitude         0.000000\n",
       "baths             0.000000\n",
       "purpose           0.000000\n",
       "bedrooms          0.000000\n",
       "date_added        0.000000\n",
       "agency           26.163281\n",
       "agent            26.163874\n",
       "Total_Area        0.000000\n",
       "dtype: float64"
      ]
     },
     "execution_count": 16,
     "metadata": {},
     "output_type": "execute_result"
    }
   ],
   "source": [
    "# percentage of null values\n",
    "(df.isnull().sum()/len(df))*100"
   ]
  },
  {
   "cell_type": "markdown",
   "metadata": {},
   "source": [
    "## Check the duplication of data"
   ]
  },
  {
   "cell_type": "code",
   "execution_count": 15,
   "metadata": {},
   "outputs": [
    {
     "data": {
      "text/plain": [
       "np.int64(0)"
      ]
     },
     "execution_count": 15,
     "metadata": {},
     "output_type": "execute_result"
    }
   ],
   "source": [
    "df.duplicated().sum()"
   ]
  },
  {
   "cell_type": "markdown",
   "metadata": {},
   "source": [
    "### drop the irrelevent column that don't make sense for prediction"
   ]
  },
  {
   "cell_type": "code",
   "execution_count": 6,
   "metadata": {},
   "outputs": [],
   "source": [
    "df.drop(columns=['Unnamed: 0','property_id','location_id','page_url','agency','agent','date_added'],inplace=True)"
   ]
  },
  {
   "cell_type": "code",
   "execution_count": 7,
   "metadata": {},
   "outputs": [
    {
     "data": {
      "text/plain": [
       "(168446, 11)"
      ]
     },
     "execution_count": 7,
     "metadata": {},
     "output_type": "execute_result"
    }
   ],
   "source": [
    "df.shape"
   ]
  },
  {
   "cell_type": "code",
   "execution_count": 8,
   "metadata": {},
   "outputs": [
    {
     "data": {
      "text/plain": [
       "np.int64(53706)"
      ]
     },
     "execution_count": 8,
     "metadata": {},
     "output_type": "execute_result"
    }
   ],
   "source": [
    "df.duplicated().sum()"
   ]
  },
  {
   "cell_type": "markdown",
   "metadata": {},
   "source": [
    "### drop the dupllicated values"
   ]
  },
  {
   "cell_type": "code",
   "execution_count": 9,
   "metadata": {},
   "outputs": [],
   "source": [
    "df.drop_duplicates(keep='first',inplace=True)"
   ]
  },
  {
   "cell_type": "code",
   "execution_count": 10,
   "metadata": {},
   "outputs": [
    {
     "data": {
      "text/plain": [
       "(114740, 11)"
      ]
     },
     "execution_count": 10,
     "metadata": {},
     "output_type": "execute_result"
    }
   ],
   "source": [
    "df.shape"
   ]
  },
  {
   "cell_type": "markdown",
   "metadata": {},
   "source": [
    "### Checking the skewness of data"
   ]
  },
  {
   "cell_type": "code",
   "execution_count": 24,
   "metadata": {},
   "outputs": [
    {
     "data": {
      "text/plain": [
       "np.float64(9.611155265706405)"
      ]
     },
     "execution_count": 24,
     "metadata": {},
     "output_type": "execute_result"
    }
   ],
   "source": [
    "df.price.skew()"
   ]
  },
  {
   "cell_type": "code",
   "execution_count": 26,
   "metadata": {},
   "outputs": [
    {
     "data": {
      "text/plain": [
       "np.float64(303.6985909165194)"
      ]
     },
     "execution_count": 26,
     "metadata": {},
     "output_type": "execute_result"
    }
   ],
   "source": [
    "df.Total_Area.skew()"
   ]
  },
  {
   "cell_type": "code",
   "execution_count": 27,
   "metadata": {},
   "outputs": [
    {
     "data": {
      "text/plain": [
       "np.float64(0.837550504217357)"
      ]
     },
     "execution_count": 27,
     "metadata": {},
     "output_type": "execute_result"
    }
   ],
   "source": [
    "df.bedrooms.skew()"
   ]
  },
  {
   "cell_type": "code",
   "execution_count": 28,
   "metadata": {},
   "outputs": [
    {
     "data": {
      "text/plain": [
       "np.float64(32.52155683626529)"
      ]
     },
     "execution_count": 28,
     "metadata": {},
     "output_type": "execute_result"
    }
   ],
   "source": [
    "df.baths.skew()"
   ]
  },
  {
   "cell_type": "markdown",
   "metadata": {},
   "source": [
    "## Outliers detection in `Price` column"
   ]
  },
  {
   "cell_type": "code",
   "execution_count": 30,
   "metadata": {},
   "outputs": [
    {
     "data": {
      "text/plain": [
       "<Axes: ylabel='price'>"
      ]
     },
     "execution_count": 30,
     "metadata": {},
     "output_type": "execute_result"
    },
    {
     "data": {
      "image/png": "[encoded data removed]",
      "text/plain": [
       "<Figure size 640x480 with 1 Axes>"
      ]
     },
     "metadata": {},
     "output_type": "display_data"
    }
   ],
   "source": [
    "sns.boxplot(df['price'])"
   ]
  },
  {
   "cell_type": "code",
   "execution_count": 31,
   "metadata": {},
   "outputs": [
    {
     "data": {
      "text/plain": [
       "(114740,)"
      ]
     },
     "execution_count": 31,
     "metadata": {},
     "output_type": "execute_result"
    }
   ],
   "source": [
    "df['price'].shape"
   ]
  },
  {
   "cell_type": "code",
   "execution_count": 11,
   "metadata": {},
   "outputs": [
    {
     "data": {
      "text/plain": [
       "count    1.147400e+05\n",
       "mean     1.867737e+07\n",
       "std      3.841888e+07\n",
       "min      0.000000e+00\n",
       "25%      1.900000e+05\n",
       "50%      8.500000e+06\n",
       "75%      2.000000e+07\n",
       "max      2.000000e+09\n",
       "Name: price, dtype: float64"
      ]
     },
     "execution_count": 11,
     "metadata": {},
     "output_type": "execute_result"
    }
   ],
   "source": [
    "df['price'].describe()"
   ]
  },
  {
   "cell_type": "code",
   "execution_count": 12,
   "metadata": {},
   "outputs": [
    {
     "name": "stdout",
     "output_type": "stream",
     "text": [
      "190000.0\n",
      "20000000.0\n",
      "IQR is  19810000.0\n",
      "upper limit  49715000.0\n",
      "lower limit  -29525000.0\n",
      "length of outliers on upper bound  9615\n",
      "length of outliers on lower bound  0\n"
     ]
    }
   ],
   "source": [
    "# finding the IQR\n",
    "q1 = df['price'].quantile(0.25)\n",
    "q3 = df['price'].quantile(0.75)\n",
    "print(q1)\n",
    "print(q3)\n",
    "\n",
    "iqr = q3-q1\n",
    "print(\"IQR is \",iqr)\n",
    "# define the upper and lower liit\n",
    "upper_limit = q3 + 1.5 * iqr\n",
    "lower_limit = q1 - 1.5 * iqr\n",
    "\n",
    "print('upper limit ',upper_limit)\n",
    "print('lower limit ',lower_limit)\n",
    "\n",
    "outlier = df[df['price'] > upper_limit]\n",
    "print(\"length of outliers on upper bound \",len(outlier))\n",
    "\n",
    "\n",
    "outlier = df[df['price'] < lower_limit]\n",
    "print(\"length of outliers on lower bound \",len(outlier))"
   ]
  },
  {
   "cell_type": "markdown",
   "metadata": {},
   "source": [
    "### Applying trimming on outliers"
   ]
  },
  {
   "cell_type": "code",
   "execution_count": 13,
   "metadata": {},
   "outputs": [
    {
     "name": "stdout",
     "output_type": "stream",
     "text": [
      "(105125, 11)\n"
     ]
    }
   ],
   "source": [
    "new_df = df[df['price'] < upper_limit]\n",
    "print(new_df.shape)"
   ]
  },
  {
   "cell_type": "code",
   "execution_count": 36,
   "metadata": {},
   "outputs": [
    {
     "data": {
      "text/plain": [
       "np.float64(1.2790719215865376)"
      ]
     },
     "execution_count": 36,
     "metadata": {},
     "output_type": "execute_result"
    }
   ],
   "source": [
    "new_df['price'].skew()"
   ]
  },
  {
   "cell_type": "code",
   "execution_count": 14,
   "metadata": {},
   "outputs": [
    {
     "data": {
      "text/plain": [
       "<Axes: ylabel='price'>"
      ]
     },
     "execution_count": 14,
     "metadata": {},
     "output_type": "execute_result"
    },
    {
     "data": {
      "image/png": "[encoded data removed]",
      "text/plain": [
       "<Figure size 640x480 with 1 Axes>"
      ]
     },
     "metadata": {},
     "output_type": "display_data"
    }
   ],
   "source": [
    "sns.boxplot(new_df['price'])"
   ]
  },
  {
   "cell_type": "markdown",
   "metadata": {},
   "source": [
    "### Outliers removing and detection on `Total_Area`"
   ]
  },
  {
   "cell_type": "code",
   "execution_count": 15,
   "metadata": {},
   "outputs": [
    {
     "name": "stdout",
     "output_type": "stream",
     "text": [
      "(105125,)\n"
     ]
    },
    {
     "data": {
      "text/plain": [
       "<Axes: ylabel='Total_Area'>"
      ]
     },
     "execution_count": 15,
     "metadata": {},
     "output_type": "execute_result"
    },
    {
     "data": {
      "image/png": "[encoded data removed]",
      "text/plain": [
       "<Figure size 640x480 with 1 Axes>"
      ]
     },
     "metadata": {},
     "output_type": "display_data"
    }
   ],
   "source": [
    "print(new_df['Total_Area'].shape)\n",
    "sns.boxplot(new_df['Total_Area'])"
   ]
  },
  {
   "cell_type": "code",
   "execution_count": 16,
   "metadata": {},
   "outputs": [
    {
     "name": "stdout",
     "output_type": "stream",
     "text": [
      "1905.757\n",
      "12795.797\n",
      "IQR is  10890.04\n",
      "upper_limit  29130.857000000004\n",
      "lower_limit  -14429.303000000002\n",
      "length of outliers on upper bound in Total_Area  6115\n",
      "length of outliers on lower bound Total_Area  0\n",
      "Skewed value of Total_Area  290.884961965163\n"
     ]
    }
   ],
   "source": [
    "# finding the IQR\n",
    "q1 = new_df['Total_Area'].quantile(0.25)\n",
    "q3 = new_df['Total_Area'].quantile(0.75)\n",
    "print(q1)\n",
    "print(q3)\n",
    "\n",
    "iqr = q3-q1\n",
    "print(\"IQR is \",iqr)\n",
    "# define the upper and lower liit\n",
    "upper_limit = q3 + 1.5 * iqr\n",
    "lower_limit = q1 - 1.5 * iqr\n",
    "\n",
    "print('upper_limit ',upper_limit)\n",
    "print('lower_limit ',lower_limit)\n",
    "\n",
    "outlier = new_df[new_df['Total_Area'] > upper_limit]\n",
    "print(\"length of outliers on upper bound in Total_Area \",len(outlier))\n",
    "\n",
    "\n",
    "outlier = new_df[new_df['Total_Area'] < lower_limit]\n",
    "print(\"length of outliers on lower bound Total_Area \",len(outlier))\n",
    "\n",
    "print('Skewed value of Total_Area ',new_df['Total_Area'].skew())"
   ]
  },
  {
   "cell_type": "code",
   "execution_count": 17,
   "metadata": {},
   "outputs": [
    {
     "name": "stdout",
     "output_type": "stream",
     "text": [
      "(99010, 11)\n"
     ]
    }
   ],
   "source": [
    "df = new_df[new_df['Total_Area'] < upper_limit]\n",
    "print(df.shape)"
   ]
  },
  {
   "cell_type": "code",
   "execution_count": 41,
   "metadata": {},
   "outputs": [
    {
     "data": {
      "text/plain": [
       "(99010, 11)"
      ]
     },
     "execution_count": 41,
     "metadata": {},
     "output_type": "execute_result"
    }
   ],
   "source": [
    "df.shape"
   ]
  },
  {
   "cell_type": "code",
   "execution_count": 42,
   "metadata": {},
   "outputs": [
    {
     "data": {
      "text/plain": [
       "np.float64(1.3810211120675213)"
      ]
     },
     "execution_count": 42,
     "metadata": {},
     "output_type": "execute_result"
    }
   ],
   "source": [
    "df['Total_Area'].skew()"
   ]
  },
  {
   "cell_type": "code",
   "execution_count": 43,
   "metadata": {},
   "outputs": [
    {
     "data": {
      "text/plain": [
       "<Axes: ylabel='Total_Area'>"
      ]
     },
     "execution_count": 43,
     "metadata": {},
     "output_type": "execute_result"
    },
    {
     "data": {
      "image/png": "[encoded data removed]",
      "text/plain": [
       "<Figure size 640x480 with 1 Axes>"
      ]
     },
     "metadata": {},
     "output_type": "display_data"
    }
   ],
   "source": [
    "sns.boxplot(df['Total_Area'])"
   ]
  },
  {
   "cell_type": "markdown",
   "metadata": {},
   "source": [
    "### Again applying the outlier technique on `price`"
   ]
  },
  {
   "cell_type": "code",
   "execution_count": 18,
   "metadata": {},
   "outputs": [
    {
     "data": {
      "text/plain": [
       "(99010, 11)"
      ]
     },
     "execution_count": 18,
     "metadata": {},
     "output_type": "execute_result"
    }
   ],
   "source": [
    "df.shape"
   ]
  },
  {
   "cell_type": "code",
   "execution_count": 20,
   "metadata": {},
   "outputs": [
    {
     "name": "stdout",
     "output_type": "stream",
     "text": [
      "125000.0\n",
      "15500000.0\n",
      "IQR is  15375000.0\n",
      "upper limit  38562500.0\n",
      "lower limit  -22937500.0\n",
      "length of outliers on upper bound  3663\n",
      "length of outliers on lower bound  0\n"
     ]
    }
   ],
   "source": [
    "# finding the IQR\n",
    "q1 = df['price'].quantile(0.25)\n",
    "q3 = df['price'].quantile(0.75)\n",
    "print(q1)\n",
    "print(q3)\n",
    "\n",
    "iqr = q3-q1\n",
    "print(\"IQR is \",iqr)\n",
    "# define the upper and lower liit\n",
    "upper_limit = q3 + 1.5 * iqr\n",
    "lower_limit = q1 - 1.5 * iqr\n",
    "\n",
    "print('upper limit ',upper_limit)\n",
    "print('lower limit ',lower_limit)\n",
    "\n",
    "outlier = df[df['price'] > upper_limit]\n",
    "print(\"length of outliers on upper bound \",len(outlier))\n",
    "\n",
    "\n",
    "outlier = df[df['price'] < lower_limit]\n",
    "print(\"length of outliers on lower bound \",len(outlier))"
   ]
  },
  {
   "cell_type": "code",
   "execution_count": 21,
   "metadata": {},
   "outputs": [
    {
     "name": "stdout",
     "output_type": "stream",
     "text": [
      "(95347, 11)\n"
     ]
    }
   ],
   "source": [
    "new_df = df[df['price'] < upper_limit]\n",
    "print(new_df.shape)"
   ]
  },
  {
   "cell_type": "code",
   "execution_count": 47,
   "metadata": {},
   "outputs": [
    {
     "data": {
      "text/plain": [
       "np.float64(1.0500490629498755)"
      ]
     },
     "execution_count": 47,
     "metadata": {},
     "output_type": "execute_result"
    }
   ],
   "source": [
    "new_df['price'].skew()"
   ]
  },
  {
   "cell_type": "code",
   "execution_count": 22,
   "metadata": {},
   "outputs": [
    {
     "data": {
      "text/plain": [
       "<Axes: ylabel='price'>"
      ]
     },
     "execution_count": 22,
     "metadata": {},
     "output_type": "execute_result"
    },
    {
     "data": {
      "image/png": "[encoded data removed]",
      "text/plain": [
       "<Figure size 640x480 with 1 Axes>"
      ]
     },
     "metadata": {},
     "output_type": "display_data"
    }
   ],
   "source": [
    "sns.boxplot(new_df['price'])"
   ]
  },
  {
   "cell_type": "markdown",
   "metadata": {},
   "source": [
    "### again applying outlier technique on `Total_Area"
   ]
  },
  {
   "cell_type": "code",
   "execution_count": 23,
   "metadata": {},
   "outputs": [
    {
     "data": {
      "text/plain": [
       "(95347,)"
      ]
     },
     "execution_count": 23,
     "metadata": {},
     "output_type": "execute_result"
    }
   ],
   "source": [
    "new_df['Total_Area'].shape"
   ]
  },
  {
   "cell_type": "code",
   "execution_count": 24,
   "metadata": {},
   "outputs": [
    {
     "name": "stdout",
     "output_type": "stream",
     "text": [
      "1633.506\n",
      "11162.291\n",
      "IQR is  9528.785\n",
      "upper limit  25455.4685\n",
      "lower limit  -12659.6715\n",
      "length of outliers on upper bound  2775\n",
      "length of outliers on lower bound  0\n"
     ]
    }
   ],
   "source": [
    "# finding the IQR\n",
    "q1 = new_df['Total_Area'].quantile(0.25)\n",
    "q3 = new_df['Total_Area'].quantile(0.75)\n",
    "print(q1)\n",
    "print(q3)\n",
    "\n",
    "iqr = q3-q1\n",
    "print(\"IQR is \",iqr)\n",
    "# define the upper and lower liit\n",
    "upper_limit = q3 + 1.5 * iqr\n",
    "lower_limit = q1 - 1.5 * iqr\n",
    "\n",
    "print('upper limit ',upper_limit)\n",
    "print('lower limit ',lower_limit)\n",
    "\n",
    "outlier = new_df[new_df['Total_Area'] > upper_limit]\n",
    "print(\"length of outliers on upper bound \",len(outlier))\n",
    "\n",
    "\n",
    "outlier = new_df[new_df['Total_Area'] < lower_limit]\n",
    "print(\"length of outliers on lower bound \",len(outlier))"
   ]
  },
  {
   "cell_type": "code",
   "execution_count": 25,
   "metadata": {},
   "outputs": [
    {
     "name": "stdout",
     "output_type": "stream",
     "text": [
      "(92572, 11)\n"
     ]
    }
   ],
   "source": [
    "df = new_df[new_df['Total_Area'] < upper_limit]\n",
    "print(df.shape)"
   ]
  },
  {
   "cell_type": "code",
   "execution_count": 52,
   "metadata": {},
   "outputs": [
    {
     "data": {
      "text/plain": [
       "np.float64(1.2331723930379705)"
      ]
     },
     "execution_count": 52,
     "metadata": {},
     "output_type": "execute_result"
    }
   ],
   "source": [
    "df['Total_Area'].skew()"
   ]
  },
  {
   "cell_type": "code",
   "execution_count": 53,
   "metadata": {},
   "outputs": [
    {
     "data": {
      "text/plain": [
       "<Axes: ylabel='Total_Area'>"
      ]
     },
     "execution_count": 53,
     "metadata": {},
     "output_type": "execute_result"
    },
    {
     "data": {
      "image/png": "[encoded data removed]",
      "text/plain": [
       "<Figure size 640x480 with 1 Axes>"
      ]
     },
     "metadata": {},
     "output_type": "display_data"
    }
   ],
   "source": [
    "sns.boxplot(df['Total_Area'])"
   ]
  },
  {
   "cell_type": "markdown",
   "metadata": {},
   "source": [
    "### Again implementing outlier method"
   ]
  },
  {
   "cell_type": "code",
   "execution_count": 26,
   "metadata": {},
   "outputs": [
    {
     "name": "stdout",
     "output_type": "stream",
     "text": [
      "110000.0\n",
      "14000000.0\n",
      "IQR is  13890000.0\n",
      "upper limit  34835000.0\n",
      "lower limit  -20725000.0\n",
      "length of outliers on upper bound  1952\n",
      "length of outliers on lower bound  0\n"
     ]
    }
   ],
   "source": [
    "# finding the IQR\n",
    "q1 = df['price'].quantile(0.25)\n",
    "q3 = df['price'].quantile(0.75)\n",
    "print(q1)\n",
    "print(q3)\n",
    "\n",
    "iqr = q3-q1\n",
    "print(\"IQR is \",iqr)\n",
    "# define the upper and lower liit\n",
    "upper_limit = q3 + 1.5 * iqr\n",
    "lower_limit = q1 - 1.5 * iqr\n",
    "\n",
    "print('upper limit ',upper_limit)\n",
    "print('lower limit ',lower_limit)\n",
    "\n",
    "outlier = df[df['price'] > upper_limit]\n",
    "print(\"length of outliers on upper bound \",len(outlier))\n",
    "\n",
    "\n",
    "outlier = df[df['price'] < lower_limit]\n",
    "print(\"length of outliers on lower bound \",len(outlier))"
   ]
  },
  {
   "cell_type": "code",
   "execution_count": 27,
   "metadata": {},
   "outputs": [
    {
     "name": "stdout",
     "output_type": "stream",
     "text": [
      "(90620, 11)\n"
     ]
    }
   ],
   "source": [
    "new_df = df[df['price'] < upper_limit]\n",
    "print(new_df.shape)"
   ]
  },
  {
   "cell_type": "code",
   "execution_count": 56,
   "metadata": {},
   "outputs": [
    {
     "data": {
      "text/plain": [
       "np.float64(0.9378794055001446)"
      ]
     },
     "execution_count": 56,
     "metadata": {},
     "output_type": "execute_result"
    }
   ],
   "source": [
    "new_df['price'].skew()"
   ]
  },
  {
   "cell_type": "code",
   "execution_count": 57,
   "metadata": {},
   "outputs": [
    {
     "data": {
      "text/plain": [
       "<Axes: ylabel='price'>"
      ]
     },
     "execution_count": 57,
     "metadata": {},
     "output_type": "execute_result"
    },
    {
     "data": {
      "image/png": "[encoded data removed]",
      "text/plain": [
       "<Figure size 640x480 with 1 Axes>"
      ]
     },
     "metadata": {},
     "output_type": "display_data"
    }
   ],
   "source": [
    "sns.boxplot(new_df['price'])"
   ]
  },
  {
   "cell_type": "markdown",
   "metadata": {},
   "source": [
    "### On the `Total_Area`"
   ]
  },
  {
   "cell_type": "code",
   "execution_count": 28,
   "metadata": {},
   "outputs": [
    {
     "name": "stdout",
     "output_type": "stream",
     "text": [
      "1633.506\n",
      "10073.286999999998\n",
      "IQR is  8439.780999999999\n",
      "upper limit  22732.958499999997\n",
      "lower limit  -11026.1655\n",
      "length of outliers on upper bound  1618\n",
      "length of outliers on lower bound  0\n"
     ]
    }
   ],
   "source": [
    "# finding the IQR\n",
    "q1 = new_df['Total_Area'].quantile(0.25)\n",
    "q3 = new_df['Total_Area'].quantile(0.75)\n",
    "print(q1)\n",
    "print(q3)\n",
    "\n",
    "iqr = q3-q1\n",
    "print(\"IQR is \",iqr)\n",
    "# define the upper and lower liit\n",
    "upper_limit = q3 + 1.5 * iqr\n",
    "lower_limit = q1 - 1.5 * iqr\n",
    "\n",
    "print('upper limit ',upper_limit)\n",
    "print('lower limit ',lower_limit)\n",
    "\n",
    "outlier = new_df[new_df['Total_Area'] > upper_limit]\n",
    "print(\"length of outliers on upper bound \",len(outlier))\n",
    "\n",
    "\n",
    "outlier = new_df[new_df['Total_Area'] < lower_limit]\n",
    "print(\"length of outliers on lower bound \",len(outlier))"
   ]
  },
  {
   "cell_type": "code",
   "execution_count": 29,
   "metadata": {},
   "outputs": [
    {
     "name": "stdout",
     "output_type": "stream",
     "text": [
      "(89002, 11)\n"
     ]
    }
   ],
   "source": [
    "df = new_df[new_df['Total_Area'] < upper_limit]\n",
    "print(df.shape)"
   ]
  },
  {
   "cell_type": "code",
   "execution_count": 30,
   "metadata": {},
   "outputs": [
    {
     "data": {
      "text/plain": [
       "<Axes: ylabel='Total_Area'>"
      ]
     },
     "execution_count": 30,
     "metadata": {},
     "output_type": "execute_result"
    },
    {
     "data": {
      "image/png": "[encoded data removed]",
      "text/plain": [
       "<Figure size 640x480 with 1 Axes>"
      ]
     },
     "metadata": {},
     "output_type": "display_data"
    }
   ],
   "source": [
    "sns.boxplot(df['Total_Area'])"
   ]
  },
  {
   "cell_type": "markdown",
   "metadata": {},
   "source": [
    "### again applying this technique "
   ]
  },
  {
   "cell_type": "code",
   "execution_count": 31,
   "metadata": {},
   "outputs": [
    {
     "data": {
      "text/plain": [
       "(89002, 11)"
      ]
     },
     "execution_count": 31,
     "metadata": {},
     "output_type": "execute_result"
    }
   ],
   "source": [
    "df.shape"
   ]
  },
  {
   "cell_type": "code",
   "execution_count": 32,
   "metadata": {},
   "outputs": [
    {
     "name": "stdout",
     "output_type": "stream",
     "text": [
      "100000.0\n",
      "13500000.0\n",
      "IQR is  13400000.0\n",
      "upper limit  33600000.0\n",
      "lower limit  -20000000.0\n",
      "length of outliers on upper bound  222\n",
      "length of outliers on lower bound  0\n"
     ]
    }
   ],
   "source": [
    "# finding the IQR\n",
    "q1 = df['price'].quantile(0.25)\n",
    "q3 = df['price'].quantile(0.75)\n",
    "print(q1)\n",
    "print(q3)\n",
    "\n",
    "iqr = q3-q1\n",
    "print(\"IQR is \",iqr)\n",
    "# define the upper and lower liit\n",
    "upper_limit = q3 + 1.5 * iqr\n",
    "lower_limit = q1 - 1.5 * iqr\n",
    "\n",
    "print('upper limit ',upper_limit)\n",
    "print('lower limit ',lower_limit)\n",
    "\n",
    "outlier = df[df['price'] > upper_limit]\n",
    "print(\"length of outliers on upper bound \",len(outlier))\n",
    "\n",
    "\n",
    "outlier = df[df['price'] < lower_limit]\n",
    "print(\"length of outliers on lower bound \",len(outlier))"
   ]
  },
  {
   "cell_type": "code",
   "execution_count": 33,
   "metadata": {},
   "outputs": [
    {
     "name": "stdout",
     "output_type": "stream",
     "text": [
      "(88778, 11)\n"
     ]
    }
   ],
   "source": [
    "new_df = df[df['price'] < upper_limit]\n",
    "print(new_df.shape)"
   ]
  },
  {
   "cell_type": "code",
   "execution_count": 34,
   "metadata": {},
   "outputs": [
    {
     "data": {
      "text/plain": [
       "<Axes: ylabel='price'>"
      ]
     },
     "execution_count": 34,
     "metadata": {},
     "output_type": "execute_result"
    },
    {
     "data": {
      "image/png": "[encoded data removed]",
      "text/plain": [
       "<Figure size 640x480 with 1 Axes>"
      ]
     },
     "metadata": {},
     "output_type": "display_data"
    }
   ],
   "source": [
    "sns.boxplot(new_df['price'])"
   ]
  },
  {
   "cell_type": "markdown",
   "metadata": {},
   "source": [
    "### again implementing on `Total_Adress`"
   ]
  },
  {
   "cell_type": "code",
   "execution_count": 35,
   "metadata": {},
   "outputs": [
    {
     "name": "stdout",
     "output_type": "stream",
     "text": [
      "1361.255\n",
      "9528.785\n",
      "IQR is  8167.53\n",
      "upper limit  21780.08\n",
      "lower limit  -10890.04\n",
      "length of outliers on upper bound  138\n",
      "length of outliers on lower bound  0\n"
     ]
    }
   ],
   "source": [
    "# finding the IQR\n",
    "q1 = new_df['Total_Area'].quantile(0.25)\n",
    "q3 = new_df['Total_Area'].quantile(0.75)\n",
    "print(q1)\n",
    "print(q3)\n",
    "\n",
    "iqr = q3-q1\n",
    "print(\"IQR is \",iqr)\n",
    "# define the upper and lower liit\n",
    "upper_limit = q3 + 1.5 * iqr\n",
    "lower_limit = q1 - 1.5 * iqr\n",
    "\n",
    "print('upper limit ',upper_limit)\n",
    "print('lower limit ',lower_limit)\n",
    "\n",
    "outlier = new_df[new_df['Total_Area'] > upper_limit]\n",
    "print(\"length of outliers on upper bound \",len(outlier))\n",
    "\n",
    "\n",
    "outlier = new_df[new_df['Total_Area'] < lower_limit]\n",
    "print(\"length of outliers on lower bound \",len(outlier))"
   ]
  },
  {
   "cell_type": "code",
   "execution_count": 36,
   "metadata": {},
   "outputs": [
    {
     "name": "stdout",
     "output_type": "stream",
     "text": [
      "(88640, 11)\n"
     ]
    }
   ],
   "source": [
    "df = new_df[new_df['Total_Area'] < upper_limit]\n",
    "print(df.shape)"
   ]
  },
  {
   "cell_type": "code",
   "execution_count": 38,
   "metadata": {},
   "outputs": [
    {
     "name": "stdout",
     "output_type": "stream",
     "text": [
      "1361.255\n",
      "9528.785\n",
      "IQR is  8167.53\n",
      "upper limit  21780.08\n",
      "lower limit  -10890.04\n",
      "length of outliers on upper bound  0\n",
      "length of outliers on lower bound  0\n"
     ]
    }
   ],
   "source": [
    "# finding the IQR\n",
    "q1 = df['Total_Area'].quantile(0.25)\n",
    "q3 = df['Total_Area'].quantile(0.75)\n",
    "print(q1)\n",
    "print(q3)\n",
    "\n",
    "iqr = q3-q1\n",
    "print(\"IQR is \",iqr)\n",
    "# define the upper and lower liit\n",
    "upper_limit = q3 + 1.5 * iqr\n",
    "lower_limit = q1 - 1.5 * iqr\n",
    "\n",
    "print('upper limit ',upper_limit)\n",
    "print('lower limit ',lower_limit)\n",
    "\n",
    "outlier = df[df['Total_Area'] > upper_limit]\n",
    "print(\"length of outliers on upper bound \",len(outlier))\n",
    "\n",
    "\n",
    "outlier = df[df['Total_Area'] < lower_limit]\n",
    "print(\"length of outliers on lower bound \",len(outlier))"
   ]
  },
  {
   "cell_type": "code",
   "execution_count": 37,
   "metadata": {},
   "outputs": [
    {
     "data": {
      "text/plain": [
       "Index(['property_type', 'price', 'location', 'city', 'province_name',\n",
       "       'latitude', 'longitude', 'baths', 'purpose', 'bedrooms', 'Total_Area'],\n",
       "      dtype='object')"
      ]
     },
     "execution_count": 37,
     "metadata": {},
     "output_type": "execute_result"
    }
   ],
   "source": [
    "df.columns"
   ]
  },
  {
   "cell_type": "markdown",
   "metadata": {},
   "source": [
    "### Now detect outliers in `latitude`"
   ]
  },
  {
   "cell_type": "code",
   "execution_count": 39,
   "metadata": {},
   "outputs": [
    {
     "data": {
      "text/plain": [
       "<Axes: ylabel='latitude'>"
      ]
     },
     "execution_count": 39,
     "metadata": {},
     "output_type": "execute_result"
    },
    {
     "data": {
      "image/png": "[encoded data removed]",
      "text/plain": [
       "<Figure size 640x480 with 1 Axes>"
      ]
     },
     "metadata": {},
     "output_type": "display_data"
    }
   ],
   "source": [
    "sns.boxplot(df['latitude'])"
   ]
  },
  {
   "cell_type": "code",
   "execution_count": 69,
   "metadata": {},
   "outputs": [
    {
     "data": {
      "text/plain": [
       "np.float64(-0.4770366331564301)"
      ]
     },
     "execution_count": 69,
     "metadata": {},
     "output_type": "execute_result"
    }
   ],
   "source": [
    "df['latitude'].skew()"
   ]
  },
  {
   "cell_type": "code",
   "execution_count": 40,
   "metadata": {},
   "outputs": [
    {
     "name": "stdout",
     "output_type": "stream",
     "text": [
      "24.949734\n",
      "33.570792\n",
      "IQR is  8.621057999999998\n",
      "upper limit  46.50237899999999\n",
      "lower limit  12.018147000000003\n",
      "length of outliers on upper bound  5\n",
      "length of outliers on lower bound  1\n"
     ]
    }
   ],
   "source": [
    "# finding the IQR\n",
    "q1 = df['latitude'].quantile(0.25)\n",
    "q3 = df['latitude'].quantile(0.75)\n",
    "print(q1)\n",
    "print(q3)\n",
    "\n",
    "iqr = q3-q1\n",
    "print(\"IQR is \",iqr)\n",
    "# define the upper and lower liit\n",
    "upper_limit = q3 + 1.5 * iqr\n",
    "lower_limit = q1 - 1.5 * iqr\n",
    "\n",
    "print('upper limit ',upper_limit)\n",
    "print('lower limit ',lower_limit)\n",
    "\n",
    "outlier = df[df['latitude'] > upper_limit]\n",
    "print(\"length of outliers on upper bound \",len(outlier))\n",
    "\n",
    "\n",
    "outlier = df[df['latitude'] < lower_limit]\n",
    "print(\"length of outliers on lower bound \",len(outlier))"
   ]
  },
  {
   "cell_type": "code",
   "execution_count": 42,
   "metadata": {},
   "outputs": [
    {
     "name": "stdout",
     "output_type": "stream",
     "text": [
      "(88634, 11)\n"
     ]
    }
   ],
   "source": [
    "new_df = df[(df['latitude'] < upper_limit) & (df['latitude'] > lower_limit)]\n",
    "print(new_df.shape)"
   ]
  },
  {
   "cell_type": "code",
   "execution_count": 43,
   "metadata": {},
   "outputs": [
    {
     "data": {
      "text/plain": [
       "<Axes: ylabel='latitude'>"
      ]
     },
     "execution_count": 43,
     "metadata": {},
     "output_type": "execute_result"
    },
    {
     "data": {
      "image/png": "[encoded data removed]",
      "text/plain": [
       "<Figure size 640x480 with 1 Axes>"
      ]
     },
     "metadata": {},
     "output_type": "display_data"
    }
   ],
   "source": [
    "sns.boxplot(new_df['latitude'])"
   ]
  },
  {
   "cell_type": "markdown",
   "metadata": {},
   "source": [
    "### Detecting and removig outliers in `longitude`"
   ]
  },
  {
   "cell_type": "code",
   "execution_count": 44,
   "metadata": {},
   "outputs": [
    {
     "name": "stdout",
     "output_type": "stream",
     "text": [
      "67.129162\n",
      "73.218813\n",
      "IQR is  6.0896510000000035\n",
      "upper limit  82.3532895\n",
      "lower limit  57.99468549999999\n",
      "length of outliers on upper bound  0\n",
      "length of outliers on lower bound  1\n"
     ]
    }
   ],
   "source": [
    "# finding the IQR\n",
    "q1 = new_df['longitude'].quantile(0.25)\n",
    "q3 = new_df['longitude'].quantile(0.75)\n",
    "print(q1)\n",
    "print(q3)\n",
    "\n",
    "iqr = q3-q1\n",
    "print(\"IQR is \",iqr)\n",
    "# define the upper and lower liit\n",
    "upper_limit = q3 + 1.5 * iqr\n",
    "lower_limit = q1 - 1.5 * iqr\n",
    "\n",
    "print('upper limit ',upper_limit)\n",
    "print('lower limit ',lower_limit)\n",
    "\n",
    "outlier = new_df[new_df['longitude'] > upper_limit]\n",
    "print(\"length of outliers on upper bound \",len(outlier))\n",
    "\n",
    "\n",
    "outlier = new_df[new_df['longitude'] < lower_limit]\n",
    "print(\"length of outliers on lower bound \",len(outlier))"
   ]
  },
  {
   "cell_type": "code",
   "execution_count": 45,
   "metadata": {},
   "outputs": [
    {
     "name": "stdout",
     "output_type": "stream",
     "text": [
      "(88633, 11)\n"
     ]
    }
   ],
   "source": [
    "df = new_df[new_df['longitude'] > lower_limit]\n",
    "print(df.shape)"
   ]
  },
  {
   "cell_type": "markdown",
   "metadata": {},
   "source": [
    "### Detecting the outliers in `bedrooms`"
   ]
  },
  {
   "cell_type": "code",
   "execution_count": 46,
   "metadata": {},
   "outputs": [
    {
     "name": "stdout",
     "output_type": "stream",
     "text": [
      "2.0\n",
      "4.0\n",
      "IQR is  2.0\n",
      "upper limit  7.0\n",
      "lower limit  -1.0\n",
      "length of outliers on upper bound  1359\n",
      "length of outliers on lower bound  0\n"
     ]
    }
   ],
   "source": [
    "# finding the IQR\n",
    "q1 = df['bedrooms'].quantile(0.25)\n",
    "q3 = df['bedrooms'].quantile(0.75)\n",
    "print(q1)\n",
    "print(q3)\n",
    "\n",
    "iqr = q3-q1\n",
    "print(\"IQR is \",iqr)\n",
    "# define the upper and lower liit\n",
    "upper_limit = q3 + 1.5 * iqr\n",
    "lower_limit = q1 - 1.5 * iqr\n",
    "\n",
    "print('upper limit ',upper_limit)\n",
    "print('lower limit ',lower_limit)\n",
    "\n",
    "outlier = df[df['bedrooms'] > upper_limit]\n",
    "print(\"length of outliers on upper bound \",len(outlier))\n",
    "\n",
    "\n",
    "outlier = df[df['bedrooms'] < lower_limit]\n",
    "print(\"length of outliers on lower bound \",len(outlier))"
   ]
  },
  {
   "cell_type": "code",
   "execution_count": 47,
   "metadata": {},
   "outputs": [
    {
     "name": "stdout",
     "output_type": "stream",
     "text": [
      "(86099, 11)\n"
     ]
    }
   ],
   "source": [
    "new_df = df[df['bedrooms'] < upper_limit]\n",
    "print(new_df.shape)"
   ]
  },
  {
   "cell_type": "code",
   "execution_count": 48,
   "metadata": {},
   "outputs": [
    {
     "data": {
      "text/plain": [
       "<Axes: ylabel='bedrooms'>"
      ]
     },
     "execution_count": 48,
     "metadata": {},
     "output_type": "execute_result"
    },
    {
     "data": {
      "image/png": "[encoded data removed]",
      "text/plain": [
       "<Figure size 640x480 with 1 Axes>"
      ]
     },
     "metadata": {},
     "output_type": "display_data"
    }
   ],
   "source": [
    "sns.boxplot(new_df['bedrooms'])"
   ]
  },
  {
   "cell_type": "markdown",
   "metadata": {},
   "source": [
    "### outlier detection and removeing in `baths`"
   ]
  },
  {
   "cell_type": "code",
   "execution_count": 49,
   "metadata": {},
   "outputs": [
    {
     "name": "stdout",
     "output_type": "stream",
     "text": [
      "1.0\n",
      "4.0\n",
      "IQR is  3.0\n",
      "upper limit  8.5\n",
      "lower limit  -3.5\n",
      "length of outliers on upper bound  73\n",
      "length of outliers on lower bound  0\n"
     ]
    }
   ],
   "source": [
    "# finding the IQR\n",
    "q1 = new_df['baths'].quantile(0.25)\n",
    "q3 = new_df['baths'].quantile(0.75)\n",
    "print(q1)\n",
    "print(q3)\n",
    "\n",
    "iqr = q3-q1\n",
    "print(\"IQR is \",iqr)\n",
    "# define the upper and lower liit\n",
    "upper_limit = q3 + 1.5 * iqr\n",
    "lower_limit = q1 - 1.5 * iqr\n",
    "\n",
    "print('upper limit ',upper_limit)\n",
    "print('lower limit ',lower_limit)\n",
    "\n",
    "outlier = new_df[new_df['baths'] > upper_limit]\n",
    "print(\"length of outliers on upper bound \",len(outlier))\n",
    "\n",
    "\n",
    "outlier = new_df[new_df['baths'] < lower_limit]\n",
    "print(\"length of outliers on lower bound \",len(outlier))"
   ]
  },
  {
   "cell_type": "code",
   "execution_count": 50,
   "metadata": {},
   "outputs": [
    {
     "name": "stdout",
     "output_type": "stream",
     "text": [
      "(86026, 11)\n"
     ]
    }
   ],
   "source": [
    "df = new_df[new_df['baths'] < upper_limit]\n",
    "print(df.shape)"
   ]
  },
  {
   "cell_type": "markdown",
   "metadata": {},
   "source": [
    "### Again applying on the `price`"
   ]
  },
  {
   "cell_type": "code",
   "execution_count": 51,
   "metadata": {},
   "outputs": [
    {
     "name": "stdout",
     "output_type": "stream",
     "text": [
      "90000.0\n",
      "13000000.0\n",
      "IQR is  12910000.0\n",
      "upper limit  32365000.0\n",
      "lower limit  -19275000.0\n",
      "length of outliers on upper bound  634\n",
      "length of outliers on lower bound  0\n"
     ]
    }
   ],
   "source": [
    "# finding the IQR\n",
    "q1 = df['price'].quantile(0.25)\n",
    "q3 = df['price'].quantile(0.75)\n",
    "print(q1)\n",
    "print(q3)\n",
    "\n",
    "iqr = q3-q1\n",
    "print(\"IQR is \",iqr)\n",
    "# define the upper and lower liit\n",
    "upper_limit = q3 + 1.5 * iqr\n",
    "lower_limit = q1 - 1.5 * iqr\n",
    "\n",
    "print('upper limit ',upper_limit)\n",
    "print('lower limit ',lower_limit)\n",
    "\n",
    "outlier = df[df['price'] > upper_limit]\n",
    "print(\"length of outliers on upper bound \",len(outlier))\n",
    "\n",
    "\n",
    "outlier = df[df['price'] < lower_limit]\n",
    "print(\"length of outliers on lower bound \",len(outlier))"
   ]
  },
  {
   "cell_type": "markdown",
   "metadata": {},
   "source": [
    "### capping"
   ]
  },
  {
   "cell_type": "code",
   "execution_count": 52,
   "metadata": {},
   "outputs": [
    {
     "data": {
      "text/plain": [
       "(86026, 11)"
      ]
     },
     "execution_count": 52,
     "metadata": {},
     "output_type": "execute_result"
    }
   ],
   "source": [
    "new_df = df.copy()\n",
    "new_df['price'] = np.where(\n",
    "    new_df['price'] > upper_limit,\n",
    "    upper_limit,\n",
    "\n",
    "np.where(\n",
    "    new_df['price'] < lower_limit,\n",
    "    lower_limit,\n",
    "    new_df['price']\n",
    ")\n",
    ")\n",
    "new_df.shape"
   ]
  },
  {
   "cell_type": "code",
   "execution_count": 58,
   "metadata": {},
   "outputs": [
    {
     "data": {
      "image/png": "[encoded data removed]",
      "text/plain": [
       "<Figure size 1400x800 with 1 Axes>"
      ]
     },
     "metadata": {},
     "output_type": "display_data"
    },
    {
     "data": {
      "text/plain": [
       "<Figure size 640x480 with 0 Axes>"
      ]
     },
     "metadata": {},
     "output_type": "display_data"
    }
   ],
   "source": [
    "plt.figure(figsize=(14, 8))\n",
    "sns.boxplot(data=new_df,orient='h',palette='Set2')\n",
    "plt.title(\"Box Plot of Features for outliers\")\n",
    "plt.xlabel(\"Value\")\n",
    "plt.show()\n",
    "plt.tight_layout()"
   ]
  },
  {
   "cell_type": "code",
   "execution_count": 59,
   "metadata": {},
   "outputs": [
    {
     "name": "stdout",
     "output_type": "stream",
     "text": [
      "<class 'pandas.core.frame.DataFrame'>\n",
      "Index: 86026 entries, 0 to 168444\n",
      "Data columns (total 11 columns):\n",
      " #   Column         Non-Null Count  Dtype  \n",
      "---  ------         --------------  -----  \n",
      " 0   property_type  86026 non-null  object \n",
      " 1   price          86026 non-null  float64\n",
      " 2   location       86026 non-null  object \n",
      " 3   city           86026 non-null  object \n",
      " 4   province_name  86026 non-null  object \n",
      " 5   latitude       86026 non-null  float64\n",
      " 6   longitude      86026 non-null  float64\n",
      " 7   baths          86026 non-null  int64  \n",
      " 8   purpose        86026 non-null  object \n",
      " 9   bedrooms       86026 non-null  int64  \n",
      " 10  Total_Area     86026 non-null  float64\n",
      "dtypes: float64(4), int64(2), object(5)\n",
      "memory usage: 7.9+ MB\n"
     ]
    }
   ],
   "source": [
    "new_df.info()"
   ]
  },
  {
   "cell_type": "code",
   "execution_count": 62,
   "metadata": {},
   "outputs": [],
   "source": [
    "new_df.to_csv('Pakistan_Housing.csv')"
   ]
  },
  {
   "cell_type": "code",
   "execution_count": 111,
   "metadata": {},
   "outputs": [],
   "source": [
    "df = pd.read_csv('Pakistan_Housing.csv')"
   ]
  },
  {
   "cell_type": "code",
   "execution_count": 112,
   "metadata": {},
   "outputs": [
    {
     "data": {
      "text/plain": [
       "(86026, 12)"
      ]
     },
     "execution_count": 112,
     "metadata": {},
     "output_type": "execute_result"
    }
   ],
   "source": [
    "df.shape"
   ]
  },
  {
   "cell_type": "code",
   "execution_count": 67,
   "metadata": {},
   "outputs": [
    {
     "data": {
      "text/plain": [
       "<Axes: >"
      ]
     },
     "execution_count": 67,
     "metadata": {},
     "output_type": "execute_result"
    }
   ],
   "source": [
    "df.boxplot()"
   ]
  },
  {
   "cell_type": "code",
   "execution_count": 113,
   "metadata": {},
   "outputs": [],
   "source": [
    "df.drop(columns=['Unnamed: 0'],inplace=True)"
   ]
  },
  {
   "cell_type": "markdown",
   "metadata": {},
   "source": [
    "### Applying one hot encodin on the categorical features"
   ]
  },
  {
   "cell_type": "code",
   "execution_count": 114,
   "metadata": {},
   "outputs": [],
   "source": [
    "df.drop(columns=['location'],inplace=True)"
   ]
  },
  {
   "cell_type": "code",
   "execution_count": 72,
   "metadata": {},
   "outputs": [],
   "source": [
    "from sklearn.preprocessing import OneHotEncoder\n",
    "from sklearn.compose import ColumnTransformer"
   ]
  },
  {
   "cell_type": "code",
   "execution_count": 71,
   "metadata": {},
   "outputs": [
    {
     "data": {
      "text/plain": [
       "Index(['property_type', 'price', 'city', 'province_name', 'latitude',\n",
       "       'longitude', 'baths', 'purpose', 'bedrooms', 'Total_Area'],\n",
       "      dtype='object')"
      ]
     },
     "execution_count": 71,
     "metadata": {},
     "output_type": "execute_result"
    }
   ],
   "source": [
    "df.columns"
   ]
  },
  {
   "cell_type": "code",
   "execution_count": 53,
   "metadata": {},
   "outputs": [
    {
     "data": {
      "text/plain": [
       "purpose\n",
       "For Sale    0.693186\n",
       "For Rent    0.306814\n",
       "Name: proportion, dtype: float64"
      ]
     },
     "execution_count": 53,
     "metadata": {},
     "output_type": "execute_result"
    }
   ],
   "source": [
    "df.purpose.value_counts(True)"
   ]
  },
  {
   "cell_type": "code",
   "execution_count": 54,
   "metadata": {},
   "outputs": [
    {
     "data": {
      "text/plain": [
       "property_type\n",
       "House            0.572373\n",
       "Flat             0.265582\n",
       "Upper Portion    0.089671\n",
       "Lower Portion    0.061760\n",
       "Room             0.006672\n",
       "Penthouse        0.002360\n",
       "Farm House       0.001581\n",
       "Name: proportion, dtype: float64"
      ]
     },
     "execution_count": 54,
     "metadata": {},
     "output_type": "execute_result"
    }
   ],
   "source": [
    "df['property_type'].value_counts(True)"
   ]
  },
  {
   "cell_type": "code",
   "execution_count": 115,
   "metadata": {},
   "outputs": [],
   "source": [
    "df['property_type'] = df['property_type'].replace(['Room','Penthouse','Farm House'],'other')"
   ]
  },
  {
   "cell_type": "code",
   "execution_count": 116,
   "metadata": {},
   "outputs": [],
   "source": [
    "df['property_type'] = df['property_type'].replace(['Upper Portion','Lower Portion'],'Portions')"
   ]
  },
  {
   "cell_type": "code",
   "execution_count": 117,
   "metadata": {},
   "outputs": [
    {
     "data": {
      "text/plain": [
       "property_type\n",
       "House       0.572373\n",
       "Flat        0.265582\n",
       "Portions    0.151431\n",
       "other       0.010613\n",
       "Name: proportion, dtype: float64"
      ]
     },
     "execution_count": 117,
     "metadata": {},
     "output_type": "execute_result"
    }
   ],
   "source": [
    "df.property_type.value_counts(True)"
   ]
  },
  {
   "cell_type": "code",
   "execution_count": 118,
   "metadata": {},
   "outputs": [
    {
     "data": {
      "text/plain": [
       "province_name\n",
       "Punjab               0.437077\n",
       "Sindh                0.338665\n",
       "Islamabad Capital    0.224258\n",
       "Name: proportion, dtype: float64"
      ]
     },
     "execution_count": 118,
     "metadata": {},
     "output_type": "execute_result"
    }
   ],
   "source": [
    "df.province_name.value_counts(True)"
   ]
  },
  {
   "cell_type": "code",
   "execution_count": 119,
   "metadata": {},
   "outputs": [
    {
     "data": {
      "text/plain": [
       "city\n",
       "Karachi       0.338665\n",
       "Lahore        0.243636\n",
       "Islamabad     0.224258\n",
       "Rawalpindi    0.145851\n",
       "Faisalabad    0.047590\n",
       "Name: proportion, dtype: float64"
      ]
     },
     "execution_count": 119,
     "metadata": {},
     "output_type": "execute_result"
    }
   ],
   "source": [
    "df.city.value_counts(True)"
   ]
  },
  {
   "cell_type": "code",
   "execution_count": 59,
   "metadata": {},
   "outputs": [
    {
     "data": {
      "text/plain": [
       "Index(['property_type', 'price', 'city', 'province_name', 'latitude',\n",
       "       'longitude', 'baths', 'purpose', 'bedrooms', 'Total_Area'],\n",
       "      dtype='object')"
      ]
     },
     "execution_count": 59,
     "metadata": {},
     "output_type": "execute_result"
    }
   ],
   "source": [
    "df.columns"
   ]
  },
  {
   "cell_type": "code",
   "execution_count": 120,
   "metadata": {},
   "outputs": [],
   "source": [
    "pd.set_option('display.max_rows',None)\n",
    "pd.set_option('display.max_columns',None)"
   ]
  },
  {
   "cell_type": "code",
   "execution_count": 82,
   "metadata": {},
   "outputs": [
    {
     "name": "stdout",
     "output_type": "stream",
     "text": [
      "<class 'pandas.core.frame.DataFrame'>\n",
      "RangeIndex: 86026 entries, 0 to 86025\n",
      "Data columns (total 10 columns):\n",
      " #   Column         Non-Null Count  Dtype  \n",
      "---  ------         --------------  -----  \n",
      " 0   property_type  86026 non-null  object \n",
      " 1   price          86026 non-null  float64\n",
      " 2   city           86026 non-null  object \n",
      " 3   province_name  86026 non-null  object \n",
      " 4   latitude       86026 non-null  float64\n",
      " 5   longitude      86026 non-null  float64\n",
      " 6   baths          86026 non-null  int64  \n",
      " 7   purpose        86026 non-null  object \n",
      " 8   bedrooms       86026 non-null  int64  \n",
      " 9   Total_Area     86026 non-null  float64\n",
      "dtypes: float64(4), int64(2), object(4)\n",
      "memory usage: 6.6+ MB\n"
     ]
    }
   ],
   "source": [
    "df.info()"
   ]
  },
  {
   "cell_type": "code",
   "execution_count": 121,
   "metadata": {},
   "outputs": [
    {
     "data": {
      "text/html": [
       "<div>\n",
       "<style scoped>\n",
       "    .dataframe tbody tr th:only-of-type {\n",
       "        vertical-align: middle;\n",
       "    }\n",
       "\n",
       "    .dataframe tbody tr th {\n",
       "        vertical-align: top;\n",
       "    }\n",
       "\n",
       "    .dataframe thead th {\n",
       "        text-align: right;\n",
       "    }\n",
       "</style>\n",
       "<table border=\"1\" class=\"dataframe\">\n",
       "  <thead>\n",
       "    <tr style=\"text-align: right;\">\n",
       "      <th></th>\n",
       "      <th>encode__property_type_Flat</th>\n",
       "      <th>encode__property_type_House</th>\n",
       "      <th>encode__property_type_Portions</th>\n",
       "      <th>encode__property_type_other</th>\n",
       "      <th>encode__city_Faisalabad</th>\n",
       "      <th>encode__city_Islamabad</th>\n",
       "      <th>encode__city_Karachi</th>\n",
       "      <th>encode__city_Lahore</th>\n",
       "      <th>encode__city_Rawalpindi</th>\n",
       "      <th>encode__province_name_Islamabad Capital</th>\n",
       "      <th>encode__province_name_Punjab</th>\n",
       "      <th>encode__province_name_Sindh</th>\n",
       "      <th>encode__purpose_For Rent</th>\n",
       "      <th>encode__purpose_For Sale</th>\n",
       "      <th>remainder__price</th>\n",
       "      <th>remainder__latitude</th>\n",
       "      <th>remainder__longitude</th>\n",
       "      <th>remainder__baths</th>\n",
       "      <th>remainder__bedrooms</th>\n",
       "      <th>remainder__Total_Area</th>\n",
       "    </tr>\n",
       "  </thead>\n",
       "  <tbody>\n",
       "    <tr>\n",
       "      <th>0</th>\n",
       "      <td>1.0</td>\n",
       "      <td>0.0</td>\n",
       "      <td>0.0</td>\n",
       "      <td>0.0</td>\n",
       "      <td>0.0</td>\n",
       "      <td>1.0</td>\n",
       "      <td>0.0</td>\n",
       "      <td>0.0</td>\n",
       "      <td>0.0</td>\n",
       "      <td>1.0</td>\n",
       "      <td>0.0</td>\n",
       "      <td>0.0</td>\n",
       "      <td>0.0</td>\n",
       "      <td>1.0</td>\n",
       "      <td>10000000.0</td>\n",
       "      <td>33.679890</td>\n",
       "      <td>73.012640</td>\n",
       "      <td>2.0</td>\n",
       "      <td>2.0</td>\n",
       "      <td>1089.004</td>\n",
       "    </tr>\n",
       "    <tr>\n",
       "      <th>1</th>\n",
       "      <td>1.0</td>\n",
       "      <td>0.0</td>\n",
       "      <td>0.0</td>\n",
       "      <td>0.0</td>\n",
       "      <td>0.0</td>\n",
       "      <td>1.0</td>\n",
       "      <td>0.0</td>\n",
       "      <td>0.0</td>\n",
       "      <td>0.0</td>\n",
       "      <td>1.0</td>\n",
       "      <td>0.0</td>\n",
       "      <td>0.0</td>\n",
       "      <td>0.0</td>\n",
       "      <td>1.0</td>\n",
       "      <td>6900000.0</td>\n",
       "      <td>33.700993</td>\n",
       "      <td>72.971492</td>\n",
       "      <td>3.0</td>\n",
       "      <td>3.0</td>\n",
       "      <td>15246.056</td>\n",
       "    </tr>\n",
       "    <tr>\n",
       "      <th>2</th>\n",
       "      <td>0.0</td>\n",
       "      <td>1.0</td>\n",
       "      <td>0.0</td>\n",
       "      <td>0.0</td>\n",
       "      <td>0.0</td>\n",
       "      <td>1.0</td>\n",
       "      <td>0.0</td>\n",
       "      <td>0.0</td>\n",
       "      <td>0.0</td>\n",
       "      <td>1.0</td>\n",
       "      <td>0.0</td>\n",
       "      <td>0.0</td>\n",
       "      <td>0.0</td>\n",
       "      <td>1.0</td>\n",
       "      <td>16500000.0</td>\n",
       "      <td>33.631486</td>\n",
       "      <td>72.926559</td>\n",
       "      <td>6.0</td>\n",
       "      <td>5.0</td>\n",
       "      <td>2178.008</td>\n",
       "    </tr>\n",
       "    <tr>\n",
       "      <th>3</th>\n",
       "      <td>0.0</td>\n",
       "      <td>1.0</td>\n",
       "      <td>0.0</td>\n",
       "      <td>0.0</td>\n",
       "      <td>0.0</td>\n",
       "      <td>1.0</td>\n",
       "      <td>0.0</td>\n",
       "      <td>0.0</td>\n",
       "      <td>0.0</td>\n",
       "      <td>1.0</td>\n",
       "      <td>0.0</td>\n",
       "      <td>0.0</td>\n",
       "      <td>0.0</td>\n",
       "      <td>1.0</td>\n",
       "      <td>7000000.0</td>\n",
       "      <td>33.492591</td>\n",
       "      <td>73.301339</td>\n",
       "      <td>3.0</td>\n",
       "      <td>3.0</td>\n",
       "      <td>2178.008</td>\n",
       "    </tr>\n",
       "    <tr>\n",
       "      <th>4</th>\n",
       "      <td>1.0</td>\n",
       "      <td>0.0</td>\n",
       "      <td>0.0</td>\n",
       "      <td>0.0</td>\n",
       "      <td>0.0</td>\n",
       "      <td>1.0</td>\n",
       "      <td>0.0</td>\n",
       "      <td>0.0</td>\n",
       "      <td>0.0</td>\n",
       "      <td>1.0</td>\n",
       "      <td>0.0</td>\n",
       "      <td>0.0</td>\n",
       "      <td>0.0</td>\n",
       "      <td>1.0</td>\n",
       "      <td>7800000.0</td>\n",
       "      <td>33.698244</td>\n",
       "      <td>72.984238</td>\n",
       "      <td>2.0</td>\n",
       "      <td>2.0</td>\n",
       "      <td>16879.562</td>\n",
       "    </tr>\n",
       "  </tbody>\n",
       "</table>\n",
       "</div>"
      ],
      "text/plain": [
       "   encode__property_type_Flat  encode__property_type_House  \\\n",
       "0                         1.0                          0.0   \n",
       "1                         1.0                          0.0   \n",
       "2                         0.0                          1.0   \n",
       "3                         0.0                          1.0   \n",
       "4                         1.0                          0.0   \n",
       "\n",
       "   encode__property_type_Portions  encode__property_type_other  \\\n",
       "0                             0.0                          0.0   \n",
       "1                             0.0                          0.0   \n",
       "2                             0.0                          0.0   \n",
       "3                             0.0                          0.0   \n",
       "4                             0.0                          0.0   \n",
       "\n",
       "   encode__city_Faisalabad  encode__city_Islamabad  encode__city_Karachi  \\\n",
       "0                      0.0                     1.0                   0.0   \n",
       "1                      0.0                     1.0                   0.0   \n",
       "2                      0.0                     1.0                   0.0   \n",
       "3                      0.0                     1.0                   0.0   \n",
       "4                      0.0                     1.0                   0.0   \n",
       "\n",
       "   encode__city_Lahore  encode__city_Rawalpindi  \\\n",
       "0                  0.0                      0.0   \n",
       "1                  0.0                      0.0   \n",
       "2                  0.0                      0.0   \n",
       "3                  0.0                      0.0   \n",
       "4                  0.0                      0.0   \n",
       "\n",
       "   encode__province_name_Islamabad Capital  encode__province_name_Punjab  \\\n",
       "0                                      1.0                           0.0   \n",
       "1                                      1.0                           0.0   \n",
       "2                                      1.0                           0.0   \n",
       "3                                      1.0                           0.0   \n",
       "4                                      1.0                           0.0   \n",
       "\n",
       "   encode__province_name_Sindh  encode__purpose_For Rent  \\\n",
       "0                          0.0                       0.0   \n",
       "1                          0.0                       0.0   \n",
       "2                          0.0                       0.0   \n",
       "3                          0.0                       0.0   \n",
       "4                          0.0                       0.0   \n",
       "\n",
       "   encode__purpose_For Sale  remainder__price  remainder__latitude  \\\n",
       "0                       1.0        10000000.0            33.679890   \n",
       "1                       1.0         6900000.0            33.700993   \n",
       "2                       1.0        16500000.0            33.631486   \n",
       "3                       1.0         7000000.0            33.492591   \n",
       "4                       1.0         7800000.0            33.698244   \n",
       "\n",
       "   remainder__longitude  remainder__baths  remainder__bedrooms  \\\n",
       "0             73.012640               2.0                  2.0   \n",
       "1             72.971492               3.0                  3.0   \n",
       "2             72.926559               6.0                  5.0   \n",
       "3             73.301339               3.0                  3.0   \n",
       "4             72.984238               2.0                  2.0   \n",
       "\n",
       "   remainder__Total_Area  \n",
       "0               1089.004  \n",
       "1              15246.056  \n",
       "2               2178.008  \n",
       "3               2178.008  \n",
       "4              16879.562  "
      ]
     },
     "execution_count": 121,
     "metadata": {},
     "output_type": "execute_result"
    }
   ],
   "source": [
    "from sklearn.compose import ColumnTransformer\n",
    "from sklearn.preprocessing import OneHotEncoder\n",
    "\n",
    "trf1 = ColumnTransformer([\n",
    "    ('encode',OneHotEncoder(handle_unknown='ignore'), [0, 2, 3, 7])\n",
    "], remainder='passthrough')\n",
    "encoded_array = trf1.fit_transform(df)\n",
    "\n",
    "# # Convert the transformed array into a DataFrame\n",
    "encoded_df = pd.DataFrame(encoded_array, columns=trf1.get_feature_names_out())\n",
    "\n",
    "encoded_df.head()\n",
    "# encoded_df = pd.DataFrame(encoded_df,columns=trf1.get_feature_names_out)\n",
    "# #df.head()"
   ]
  },
  {
   "cell_type": "code",
   "execution_count": 89,
   "metadata": {},
   "outputs": [
    {
     "data": {
      "text/html": [
       "<div>\n",
       "<style scoped>\n",
       "    .dataframe tbody tr th:only-of-type {\n",
       "        vertical-align: middle;\n",
       "    }\n",
       "\n",
       "    .dataframe tbody tr th {\n",
       "        vertical-align: top;\n",
       "    }\n",
       "\n",
       "    .dataframe thead th {\n",
       "        text-align: right;\n",
       "    }\n",
       "</style>\n",
       "<table border=\"1\" class=\"dataframe\">\n",
       "  <thead>\n",
       "    <tr style=\"text-align: right;\">\n",
       "      <th></th>\n",
       "      <th>encode__property_type_Flat</th>\n",
       "      <th>encode__property_type_House</th>\n",
       "      <th>encode__property_type_Portions</th>\n",
       "      <th>encode__property_type_other</th>\n",
       "      <th>encode__city_Faisalabad</th>\n",
       "      <th>encode__city_Islamabad</th>\n",
       "      <th>encode__city_Karachi</th>\n",
       "      <th>encode__city_Lahore</th>\n",
       "      <th>encode__city_Rawalpindi</th>\n",
       "      <th>encode__province_name_Islamabad Capital</th>\n",
       "      <th>encode__province_name_Punjab</th>\n",
       "      <th>encode__province_name_Sindh</th>\n",
       "      <th>encode__purpose_For Rent</th>\n",
       "      <th>encode__purpose_For Sale</th>\n",
       "      <th>remainder__price</th>\n",
       "      <th>remainder__latitude</th>\n",
       "      <th>remainder__longitude</th>\n",
       "      <th>remainder__baths</th>\n",
       "      <th>remainder__bedrooms</th>\n",
       "      <th>remainder__Total_Area</th>\n",
       "    </tr>\n",
       "  </thead>\n",
       "  <tbody>\n",
       "    <tr>\n",
       "      <th>37849</th>\n",
       "      <td>1.0</td>\n",
       "      <td>0.0</td>\n",
       "      <td>0.0</td>\n",
       "      <td>0.0</td>\n",
       "      <td>0.0</td>\n",
       "      <td>0.0</td>\n",
       "      <td>0.0</td>\n",
       "      <td>0.0</td>\n",
       "      <td>1.0</td>\n",
       "      <td>0.0</td>\n",
       "      <td>1.0</td>\n",
       "      <td>0.0</td>\n",
       "      <td>0.0</td>\n",
       "      <td>1.0</td>\n",
       "      <td>3800000.0</td>\n",
       "      <td>33.549693</td>\n",
       "      <td>73.130536</td>\n",
       "      <td>1.0</td>\n",
       "      <td>1.0</td>\n",
       "      <td>6806.275</td>\n",
       "    </tr>\n",
       "    <tr>\n",
       "      <th>54023</th>\n",
       "      <td>0.0</td>\n",
       "      <td>1.0</td>\n",
       "      <td>0.0</td>\n",
       "      <td>0.0</td>\n",
       "      <td>0.0</td>\n",
       "      <td>0.0</td>\n",
       "      <td>1.0</td>\n",
       "      <td>0.0</td>\n",
       "      <td>0.0</td>\n",
       "      <td>0.0</td>\n",
       "      <td>0.0</td>\n",
       "      <td>1.0</td>\n",
       "      <td>0.0</td>\n",
       "      <td>1.0</td>\n",
       "      <td>26000000.0</td>\n",
       "      <td>24.938913</td>\n",
       "      <td>67.140593</td>\n",
       "      <td>0.0</td>\n",
       "      <td>0.0</td>\n",
       "      <td>2178.008</td>\n",
       "    </tr>\n",
       "    <tr>\n",
       "      <th>41908</th>\n",
       "      <td>0.0</td>\n",
       "      <td>1.0</td>\n",
       "      <td>0.0</td>\n",
       "      <td>0.0</td>\n",
       "      <td>0.0</td>\n",
       "      <td>0.0</td>\n",
       "      <td>1.0</td>\n",
       "      <td>0.0</td>\n",
       "      <td>0.0</td>\n",
       "      <td>0.0</td>\n",
       "      <td>0.0</td>\n",
       "      <td>1.0</td>\n",
       "      <td>0.0</td>\n",
       "      <td>1.0</td>\n",
       "      <td>14000000.0</td>\n",
       "      <td>24.911038</td>\n",
       "      <td>67.141385</td>\n",
       "      <td>4.0</td>\n",
       "      <td>4.0</td>\n",
       "      <td>13068.048</td>\n",
       "    </tr>\n",
       "    <tr>\n",
       "      <th>75742</th>\n",
       "      <td>0.0</td>\n",
       "      <td>1.0</td>\n",
       "      <td>0.0</td>\n",
       "      <td>0.0</td>\n",
       "      <td>0.0</td>\n",
       "      <td>0.0</td>\n",
       "      <td>0.0</td>\n",
       "      <td>1.0</td>\n",
       "      <td>0.0</td>\n",
       "      <td>0.0</td>\n",
       "      <td>1.0</td>\n",
       "      <td>0.0</td>\n",
       "      <td>0.0</td>\n",
       "      <td>1.0</td>\n",
       "      <td>8500000.0</td>\n",
       "      <td>31.502166</td>\n",
       "      <td>74.333439</td>\n",
       "      <td>6.0</td>\n",
       "      <td>6.0</td>\n",
       "      <td>1361.255</td>\n",
       "    </tr>\n",
       "    <tr>\n",
       "      <th>83046</th>\n",
       "      <td>0.0</td>\n",
       "      <td>1.0</td>\n",
       "      <td>0.0</td>\n",
       "      <td>0.0</td>\n",
       "      <td>0.0</td>\n",
       "      <td>0.0</td>\n",
       "      <td>0.0</td>\n",
       "      <td>0.0</td>\n",
       "      <td>1.0</td>\n",
       "      <td>0.0</td>\n",
       "      <td>1.0</td>\n",
       "      <td>0.0</td>\n",
       "      <td>0.0</td>\n",
       "      <td>1.0</td>\n",
       "      <td>14000000.0</td>\n",
       "      <td>33.543004</td>\n",
       "      <td>73.067576</td>\n",
       "      <td>4.0</td>\n",
       "      <td>4.0</td>\n",
       "      <td>2722.510</td>\n",
       "    </tr>\n",
       "    <tr>\n",
       "      <th>71105</th>\n",
       "      <td>1.0</td>\n",
       "      <td>0.0</td>\n",
       "      <td>0.0</td>\n",
       "      <td>0.0</td>\n",
       "      <td>0.0</td>\n",
       "      <td>0.0</td>\n",
       "      <td>1.0</td>\n",
       "      <td>0.0</td>\n",
       "      <td>0.0</td>\n",
       "      <td>0.0</td>\n",
       "      <td>0.0</td>\n",
       "      <td>1.0</td>\n",
       "      <td>0.0</td>\n",
       "      <td>1.0</td>\n",
       "      <td>2500000.0</td>\n",
       "      <td>25.017951</td>\n",
       "      <td>67.136393</td>\n",
       "      <td>2.0</td>\n",
       "      <td>2.0</td>\n",
       "      <td>9256.534</td>\n",
       "    </tr>\n",
       "    <tr>\n",
       "      <th>18034</th>\n",
       "      <td>0.0</td>\n",
       "      <td>0.0</td>\n",
       "      <td>1.0</td>\n",
       "      <td>0.0</td>\n",
       "      <td>0.0</td>\n",
       "      <td>0.0</td>\n",
       "      <td>1.0</td>\n",
       "      <td>0.0</td>\n",
       "      <td>0.0</td>\n",
       "      <td>0.0</td>\n",
       "      <td>0.0</td>\n",
       "      <td>1.0</td>\n",
       "      <td>1.0</td>\n",
       "      <td>0.0</td>\n",
       "      <td>19000.0</td>\n",
       "      <td>24.974660</td>\n",
       "      <td>67.054667</td>\n",
       "      <td>0.0</td>\n",
       "      <td>0.0</td>\n",
       "      <td>13068.048</td>\n",
       "    </tr>\n",
       "    <tr>\n",
       "      <th>57330</th>\n",
       "      <td>0.0</td>\n",
       "      <td>0.0</td>\n",
       "      <td>0.0</td>\n",
       "      <td>1.0</td>\n",
       "      <td>0.0</td>\n",
       "      <td>1.0</td>\n",
       "      <td>0.0</td>\n",
       "      <td>0.0</td>\n",
       "      <td>0.0</td>\n",
       "      <td>1.0</td>\n",
       "      <td>0.0</td>\n",
       "      <td>0.0</td>\n",
       "      <td>1.0</td>\n",
       "      <td>0.0</td>\n",
       "      <td>10000.0</td>\n",
       "      <td>33.666470</td>\n",
       "      <td>73.153934</td>\n",
       "      <td>1.0</td>\n",
       "      <td>1.0</td>\n",
       "      <td>1089.004</td>\n",
       "    </tr>\n",
       "    <tr>\n",
       "      <th>38073</th>\n",
       "      <td>0.0</td>\n",
       "      <td>1.0</td>\n",
       "      <td>0.0</td>\n",
       "      <td>0.0</td>\n",
       "      <td>0.0</td>\n",
       "      <td>0.0</td>\n",
       "      <td>0.0</td>\n",
       "      <td>1.0</td>\n",
       "      <td>0.0</td>\n",
       "      <td>0.0</td>\n",
       "      <td>1.0</td>\n",
       "      <td>0.0</td>\n",
       "      <td>0.0</td>\n",
       "      <td>1.0</td>\n",
       "      <td>5600000.0</td>\n",
       "      <td>31.450925</td>\n",
       "      <td>74.354287</td>\n",
       "      <td>3.0</td>\n",
       "      <td>4.0</td>\n",
       "      <td>816.753</td>\n",
       "    </tr>\n",
       "    <tr>\n",
       "      <th>70728</th>\n",
       "      <td>0.0</td>\n",
       "      <td>1.0</td>\n",
       "      <td>0.0</td>\n",
       "      <td>0.0</td>\n",
       "      <td>0.0</td>\n",
       "      <td>0.0</td>\n",
       "      <td>0.0</td>\n",
       "      <td>0.0</td>\n",
       "      <td>1.0</td>\n",
       "      <td>0.0</td>\n",
       "      <td>1.0</td>\n",
       "      <td>0.0</td>\n",
       "      <td>0.0</td>\n",
       "      <td>1.0</td>\n",
       "      <td>3000000.0</td>\n",
       "      <td>33.589320</td>\n",
       "      <td>72.979099</td>\n",
       "      <td>2.0</td>\n",
       "      <td>2.0</td>\n",
       "      <td>816.753</td>\n",
       "    </tr>\n",
       "  </tbody>\n",
       "</table>\n",
       "</div>"
      ],
      "text/plain": [
       "       encode__property_type_Flat  encode__property_type_House  \\\n",
       "37849                         1.0                          0.0   \n",
       "54023                         0.0                          1.0   \n",
       "41908                         0.0                          1.0   \n",
       "75742                         0.0                          1.0   \n",
       "83046                         0.0                          1.0   \n",
       "71105                         1.0                          0.0   \n",
       "18034                         0.0                          0.0   \n",
       "57330                         0.0                          0.0   \n",
       "38073                         0.0                          1.0   \n",
       "70728                         0.0                          1.0   \n",
       "\n",
       "       encode__property_type_Portions  encode__property_type_other  \\\n",
       "37849                             0.0                          0.0   \n",
       "54023                             0.0                          0.0   \n",
       "41908                             0.0                          0.0   \n",
       "75742                             0.0                          0.0   \n",
       "83046                             0.0                          0.0   \n",
       "71105                             0.0                          0.0   \n",
       "18034                             1.0                          0.0   \n",
       "57330                             0.0                          1.0   \n",
       "38073                             0.0                          0.0   \n",
       "70728                             0.0                          0.0   \n",
       "\n",
       "       encode__city_Faisalabad  encode__city_Islamabad  encode__city_Karachi  \\\n",
       "37849                      0.0                     0.0                   0.0   \n",
       "54023                      0.0                     0.0                   1.0   \n",
       "41908                      0.0                     0.0                   1.0   \n",
       "75742                      0.0                     0.0                   0.0   \n",
       "83046                      0.0                     0.0                   0.0   \n",
       "71105                      0.0                     0.0                   1.0   \n",
       "18034                      0.0                     0.0                   1.0   \n",
       "57330                      0.0                     1.0                   0.0   \n",
       "38073                      0.0                     0.0                   0.0   \n",
       "70728                      0.0                     0.0                   0.0   \n",
       "\n",
       "       encode__city_Lahore  encode__city_Rawalpindi  \\\n",
       "37849                  0.0                      1.0   \n",
       "54023                  0.0                      0.0   \n",
       "41908                  0.0                      0.0   \n",
       "75742                  1.0                      0.0   \n",
       "83046                  0.0                      1.0   \n",
       "71105                  0.0                      0.0   \n",
       "18034                  0.0                      0.0   \n",
       "57330                  0.0                      0.0   \n",
       "38073                  1.0                      0.0   \n",
       "70728                  0.0                      1.0   \n",
       "\n",
       "       encode__province_name_Islamabad Capital  encode__province_name_Punjab  \\\n",
       "37849                                      0.0                           1.0   \n",
       "54023                                      0.0                           0.0   \n",
       "41908                                      0.0                           0.0   \n",
       "75742                                      0.0                           1.0   \n",
       "83046                                      0.0                           1.0   \n",
       "71105                                      0.0                           0.0   \n",
       "18034                                      0.0                           0.0   \n",
       "57330                                      1.0                           0.0   \n",
       "38073                                      0.0                           1.0   \n",
       "70728                                      0.0                           1.0   \n",
       "\n",
       "       encode__province_name_Sindh  encode__purpose_For Rent  \\\n",
       "37849                          0.0                       0.0   \n",
       "54023                          1.0                       0.0   \n",
       "41908                          1.0                       0.0   \n",
       "75742                          0.0                       0.0   \n",
       "83046                          0.0                       0.0   \n",
       "71105                          1.0                       0.0   \n",
       "18034                          1.0                       1.0   \n",
       "57330                          0.0                       1.0   \n",
       "38073                          0.0                       0.0   \n",
       "70728                          0.0                       0.0   \n",
       "\n",
       "       encode__purpose_For Sale  remainder__price  remainder__latitude  \\\n",
       "37849                       1.0         3800000.0            33.549693   \n",
       "54023                       1.0        26000000.0            24.938913   \n",
       "41908                       1.0        14000000.0            24.911038   \n",
       "75742                       1.0         8500000.0            31.502166   \n",
       "83046                       1.0        14000000.0            33.543004   \n",
       "71105                       1.0         2500000.0            25.017951   \n",
       "18034                       0.0           19000.0            24.974660   \n",
       "57330                       0.0           10000.0            33.666470   \n",
       "38073                       1.0         5600000.0            31.450925   \n",
       "70728                       1.0         3000000.0            33.589320   \n",
       "\n",
       "       remainder__longitude  remainder__baths  remainder__bedrooms  \\\n",
       "37849             73.130536               1.0                  1.0   \n",
       "54023             67.140593               0.0                  0.0   \n",
       "41908             67.141385               4.0                  4.0   \n",
       "75742             74.333439               6.0                  6.0   \n",
       "83046             73.067576               4.0                  4.0   \n",
       "71105             67.136393               2.0                  2.0   \n",
       "18034             67.054667               0.0                  0.0   \n",
       "57330             73.153934               1.0                  1.0   \n",
       "38073             74.354287               3.0                  4.0   \n",
       "70728             72.979099               2.0                  2.0   \n",
       "\n",
       "       remainder__Total_Area  \n",
       "37849               6806.275  \n",
       "54023               2178.008  \n",
       "41908              13068.048  \n",
       "75742               1361.255  \n",
       "83046               2722.510  \n",
       "71105               9256.534  \n",
       "18034              13068.048  \n",
       "57330               1089.004  \n",
       "38073                816.753  \n",
       "70728                816.753  "
      ]
     },
     "execution_count": 89,
     "metadata": {},
     "output_type": "execute_result"
    }
   ],
   "source": [
    "encoded_df.sample(10)"
   ]
  },
  {
   "cell_type": "code",
   "execution_count": 87,
   "metadata": {},
   "outputs": [
    {
     "data": {
      "text/plain": [
       "(86026, 20)"
      ]
     },
     "execution_count": 87,
     "metadata": {},
     "output_type": "execute_result"
    }
   ],
   "source": [
    "encoded_df.shape"
   ]
  },
  {
   "cell_type": "code",
   "execution_count": null,
   "metadata": {},
   "outputs": [],
   "source": []
  },
  {
   "cell_type": "code",
   "execution_count": 122,
   "metadata": {},
   "outputs": [
    {
     "data": {
      "image/png": "[encoded data removed]",
      "text/plain": [
       "<Figure size 1200x1000 with 2 Axes>"
      ]
     },
     "metadata": {},
     "output_type": "display_data"
    }
   ],
   "source": [
    "# Compute the correlation matrix\n",
    "corr = encoded_df.corr()\n",
    "\n",
    "# Create a new figure for plotting\n",
    "plt.figure(figsize=(12, 10))  # Set the figure size\n",
    "\n",
    "# Create the heatmap with Seaborn\n",
    "sns.heatmap(corr, annot=True, cmap='viridis', fmt='.2f', linewidths=0.5)  # Customize the plot\n",
    "\n",
    "# Add labels and title\n",
    "plt.xlabel('Features')\n",
    "plt.ylabel('Features')\n",
    "plt.title('Correlation Heatmap')\n",
    "\n",
    "# Rotate x-axis labels for better readability\n",
    "plt.xticks(rotation=-90, ha='right')\n",
    "\n",
    "# Show the plot\n",
    "plt.tight_layout()\n",
    "plt.show()"
   ]
  },
  {
   "cell_type": "code",
   "execution_count": 123,
   "metadata": {},
   "outputs": [],
   "source": [
    "encoded_df.drop(columns=['remainder__latitude'],inplace=True)"
   ]
  },
  {
   "cell_type": "code",
   "execution_count": 124,
   "metadata": {},
   "outputs": [
    {
     "data": {
      "text/plain": [
       "(86026, 19)"
      ]
     },
     "execution_count": 124,
     "metadata": {},
     "output_type": "execute_result"
    }
   ],
   "source": [
    "encoded_df.shape"
   ]
  },
  {
   "cell_type": "code",
   "execution_count": null,
   "metadata": {},
   "outputs": [],
   "source": [
    "encoded_df.to_csv(\"Pakistan.csv\")"
   ]
  },
  {
   "cell_type": "markdown",
   "metadata": {},
   "source": [
    "##### Steps to apply regression model\n",
    "- Splitting the data\n",
    "- Fit the model\n",
    "- Check the prediction\n",
    "- Check the ccuracy score"
   ]
  },
  {
   "cell_type": "code",
   "execution_count": 125,
   "metadata": {},
   "outputs": [],
   "source": [
    "import sklearn\n",
    "from sklearn.model_selection import train_test_split\n",
    "from sklearn.linear_model import LinearRegression\n",
    "from sklearn.metrics import mean_squared_error, r2_score,mean_absolute_error,root_mean_squared_error\n",
    "from sklearn.preprocessing import StandardScaler,MinMaxScaler\n",
    "import sklearn.metrics as metrics"
   ]
  },
  {
   "cell_type": "markdown",
   "metadata": {},
   "source": [
    "## Splittine the data:\n",
    "- train_data = 70%\n",
    "- test_data = 20%"
   ]
  },
  {
   "cell_type": "code",
   "execution_count": 127,
   "metadata": {},
   "outputs": [],
   "source": [
    "x=encoded_df.drop('remainder__price',axis=1)\n",
    "y=encoded_df['remainder__price']\n",
    "from sklearn.model_selection import train_test_split\n",
    "x_train,x_test,y_train,y_test=train_test_split(x,y,test_size=0.2,random_state=42)"
   ]
  },
  {
   "cell_type": "code",
   "execution_count": 128,
   "metadata": {},
   "outputs": [
    {
     "data": {
      "text/plain": [
       "((68820, 18), (17206, 18), (68820,), (17206,))"
      ]
     },
     "execution_count": 128,
     "metadata": {},
     "output_type": "execute_result"
    }
   ],
   "source": [
    "x_train.shape,x_test.shape,y_train.shape,y_test.shape"
   ]
  },
  {
   "cell_type": "code",
   "execution_count": 129,
   "metadata": {},
   "outputs": [
    {
     "data": {
      "text/html": [
       "<div>\n",
       "<style scoped>\n",
       "    .dataframe tbody tr th:only-of-type {\n",
       "        vertical-align: middle;\n",
       "    }\n",
       "\n",
       "    .dataframe tbody tr th {\n",
       "        vertical-align: top;\n",
       "    }\n",
       "\n",
       "    .dataframe thead th {\n",
       "        text-align: right;\n",
       "    }\n",
       "</style>\n",
       "<table border=\"1\" class=\"dataframe\">\n",
       "  <thead>\n",
       "    <tr style=\"text-align: right;\">\n",
       "      <th></th>\n",
       "      <th>encode__property_type_Flat</th>\n",
       "      <th>encode__property_type_House</th>\n",
       "      <th>encode__property_type_Portions</th>\n",
       "      <th>encode__property_type_other</th>\n",
       "      <th>encode__city_Faisalabad</th>\n",
       "      <th>encode__city_Islamabad</th>\n",
       "      <th>encode__city_Karachi</th>\n",
       "      <th>encode__city_Lahore</th>\n",
       "      <th>encode__city_Rawalpindi</th>\n",
       "      <th>encode__province_name_Islamabad Capital</th>\n",
       "      <th>encode__province_name_Punjab</th>\n",
       "      <th>encode__province_name_Sindh</th>\n",
       "      <th>encode__purpose_For Rent</th>\n",
       "      <th>encode__purpose_For Sale</th>\n",
       "      <th>remainder__longitude</th>\n",
       "      <th>remainder__baths</th>\n",
       "      <th>remainder__bedrooms</th>\n",
       "      <th>remainder__Total_Area</th>\n",
       "    </tr>\n",
       "  </thead>\n",
       "  <tbody>\n",
       "    <tr>\n",
       "      <th>56631</th>\n",
       "      <td>0.0</td>\n",
       "      <td>1.0</td>\n",
       "      <td>0.0</td>\n",
       "      <td>0.0</td>\n",
       "      <td>0.0</td>\n",
       "      <td>0.0</td>\n",
       "      <td>0.0</td>\n",
       "      <td>1.0</td>\n",
       "      <td>0.0</td>\n",
       "      <td>0.0</td>\n",
       "      <td>1.0</td>\n",
       "      <td>0.0</td>\n",
       "      <td>0.0</td>\n",
       "      <td>1.0</td>\n",
       "      <td>74.252458</td>\n",
       "      <td>3.0</td>\n",
       "      <td>3.0</td>\n",
       "      <td>1361.255</td>\n",
       "    </tr>\n",
       "    <tr>\n",
       "      <th>6437</th>\n",
       "      <td>1.0</td>\n",
       "      <td>0.0</td>\n",
       "      <td>0.0</td>\n",
       "      <td>0.0</td>\n",
       "      <td>0.0</td>\n",
       "      <td>0.0</td>\n",
       "      <td>1.0</td>\n",
       "      <td>0.0</td>\n",
       "      <td>0.0</td>\n",
       "      <td>0.0</td>\n",
       "      <td>0.0</td>\n",
       "      <td>1.0</td>\n",
       "      <td>0.0</td>\n",
       "      <td>1.0</td>\n",
       "      <td>67.136153</td>\n",
       "      <td>2.0</td>\n",
       "      <td>2.0</td>\n",
       "      <td>15790.558</td>\n",
       "    </tr>\n",
       "    <tr>\n",
       "      <th>15506</th>\n",
       "      <td>0.0</td>\n",
       "      <td>0.0</td>\n",
       "      <td>1.0</td>\n",
       "      <td>0.0</td>\n",
       "      <td>0.0</td>\n",
       "      <td>1.0</td>\n",
       "      <td>0.0</td>\n",
       "      <td>0.0</td>\n",
       "      <td>0.0</td>\n",
       "      <td>1.0</td>\n",
       "      <td>0.0</td>\n",
       "      <td>0.0</td>\n",
       "      <td>1.0</td>\n",
       "      <td>0.0</td>\n",
       "      <td>72.929034</td>\n",
       "      <td>3.0</td>\n",
       "      <td>3.0</td>\n",
       "      <td>1905.757</td>\n",
       "    </tr>\n",
       "    <tr>\n",
       "      <th>7454</th>\n",
       "      <td>0.0</td>\n",
       "      <td>1.0</td>\n",
       "      <td>0.0</td>\n",
       "      <td>0.0</td>\n",
       "      <td>0.0</td>\n",
       "      <td>1.0</td>\n",
       "      <td>0.0</td>\n",
       "      <td>0.0</td>\n",
       "      <td>0.0</td>\n",
       "      <td>1.0</td>\n",
       "      <td>0.0</td>\n",
       "      <td>0.0</td>\n",
       "      <td>1.0</td>\n",
       "      <td>0.0</td>\n",
       "      <td>73.074160</td>\n",
       "      <td>6.0</td>\n",
       "      <td>6.0</td>\n",
       "      <td>3267.012</td>\n",
       "    </tr>\n",
       "    <tr>\n",
       "      <th>59626</th>\n",
       "      <td>1.0</td>\n",
       "      <td>0.0</td>\n",
       "      <td>0.0</td>\n",
       "      <td>0.0</td>\n",
       "      <td>0.0</td>\n",
       "      <td>0.0</td>\n",
       "      <td>0.0</td>\n",
       "      <td>0.0</td>\n",
       "      <td>1.0</td>\n",
       "      <td>0.0</td>\n",
       "      <td>1.0</td>\n",
       "      <td>0.0</td>\n",
       "      <td>1.0</td>\n",
       "      <td>0.0</td>\n",
       "      <td>73.129443</td>\n",
       "      <td>0.0</td>\n",
       "      <td>0.0</td>\n",
       "      <td>9801.036</td>\n",
       "    </tr>\n",
       "  </tbody>\n",
       "</table>\n",
       "</div>"
      ],
      "text/plain": [
       "       encode__property_type_Flat  encode__property_type_House  \\\n",
       "56631                         0.0                          1.0   \n",
       "6437                          1.0                          0.0   \n",
       "15506                         0.0                          0.0   \n",
       "7454                          0.0                          1.0   \n",
       "59626                         1.0                          0.0   \n",
       "\n",
       "       encode__property_type_Portions  encode__property_type_other  \\\n",
       "56631                             0.0                          0.0   \n",
       "6437                              0.0                          0.0   \n",
       "15506                             1.0                          0.0   \n",
       "7454                              0.0                          0.0   \n",
       "59626                             0.0                          0.0   \n",
       "\n",
       "       encode__city_Faisalabad  encode__city_Islamabad  encode__city_Karachi  \\\n",
       "56631                      0.0                     0.0                   0.0   \n",
       "6437                       0.0                     0.0                   1.0   \n",
       "15506                      0.0                     1.0                   0.0   \n",
       "7454                       0.0                     1.0                   0.0   \n",
       "59626                      0.0                     0.0                   0.0   \n",
       "\n",
       "       encode__city_Lahore  encode__city_Rawalpindi  \\\n",
       "56631                  1.0                      0.0   \n",
       "6437                   0.0                      0.0   \n",
       "15506                  0.0                      0.0   \n",
       "7454                   0.0                      0.0   \n",
       "59626                  0.0                      1.0   \n",
       "\n",
       "       encode__province_name_Islamabad Capital  encode__province_name_Punjab  \\\n",
       "56631                                      0.0                           1.0   \n",
       "6437                                       0.0                           0.0   \n",
       "15506                                      1.0                           0.0   \n",
       "7454                                       1.0                           0.0   \n",
       "59626                                      0.0                           1.0   \n",
       "\n",
       "       encode__province_name_Sindh  encode__purpose_For Rent  \\\n",
       "56631                          0.0                       0.0   \n",
       "6437                           1.0                       0.0   \n",
       "15506                          0.0                       1.0   \n",
       "7454                           0.0                       1.0   \n",
       "59626                          0.0                       1.0   \n",
       "\n",
       "       encode__purpose_For Sale  remainder__longitude  remainder__baths  \\\n",
       "56631                       1.0             74.252458               3.0   \n",
       "6437                        1.0             67.136153               2.0   \n",
       "15506                       0.0             72.929034               3.0   \n",
       "7454                        0.0             73.074160               6.0   \n",
       "59626                       0.0             73.129443               0.0   \n",
       "\n",
       "       remainder__bedrooms  remainder__Total_Area  \n",
       "56631                  3.0               1361.255  \n",
       "6437                   2.0              15790.558  \n",
       "15506                  3.0               1905.757  \n",
       "7454                   6.0               3267.012  \n",
       "59626                  0.0               9801.036  "
      ]
     },
     "execution_count": 129,
     "metadata": {},
     "output_type": "execute_result"
    }
   ],
   "source": [
    "x_train.head()"
   ]
  },
  {
   "cell_type": "markdown",
   "metadata": {},
   "source": [
    "### Scalling the data"
   ]
  },
  {
   "cell_type": "code",
   "execution_count": 130,
   "metadata": {},
   "outputs": [],
   "source": [
    "from sklearn.preprocessing import StandardScaler"
   ]
  },
  {
   "cell_type": "code",
   "execution_count": 131,
   "metadata": {},
   "outputs": [],
   "source": [
    "#training and testing sets\n",
    "scaler = StandardScaler()\n",
    "x_train = scaler.fit_transform(x_train)\n",
    "x_test = scaler.transform(x_test)"
   ]
  },
  {
   "cell_type": "code",
   "execution_count": 101,
   "metadata": {},
   "outputs": [
    {
     "data": {
      "text/html": [
       "<div>\n",
       "<style scoped>\n",
       "    .dataframe tbody tr th:only-of-type {\n",
       "        vertical-align: middle;\n",
       "    }\n",
       "\n",
       "    .dataframe tbody tr th {\n",
       "        vertical-align: top;\n",
       "    }\n",
       "\n",
       "    .dataframe thead th {\n",
       "        text-align: right;\n",
       "    }\n",
       "</style>\n",
       "<table border=\"1\" class=\"dataframe\">\n",
       "  <thead>\n",
       "    <tr style=\"text-align: right;\">\n",
       "      <th></th>\n",
       "      <th>encode__property_type_Flat</th>\n",
       "      <th>encode__property_type_House</th>\n",
       "      <th>encode__property_type_Portions</th>\n",
       "      <th>encode__property_type_other</th>\n",
       "      <th>encode__city_Faisalabad</th>\n",
       "      <th>encode__city_Islamabad</th>\n",
       "      <th>encode__city_Karachi</th>\n",
       "      <th>encode__city_Lahore</th>\n",
       "      <th>encode__city_Rawalpindi</th>\n",
       "      <th>encode__province_name_Islamabad Capital</th>\n",
       "      <th>encode__province_name_Punjab</th>\n",
       "      <th>encode__province_name_Sindh</th>\n",
       "      <th>encode__purpose_For Rent</th>\n",
       "      <th>encode__purpose_For Sale</th>\n",
       "      <th>remainder__longitude</th>\n",
       "      <th>remainder__baths</th>\n",
       "      <th>remainder__bedrooms</th>\n",
       "      <th>remainder__Total_Area</th>\n",
       "    </tr>\n",
       "  </thead>\n",
       "  <tbody>\n",
       "    <tr>\n",
       "      <th>0</th>\n",
       "      <td>1.662062</td>\n",
       "      <td>-1.158259</td>\n",
       "      <td>-0.421596</td>\n",
       "      <td>-0.102327</td>\n",
       "      <td>-0.224362</td>\n",
       "      <td>-0.539738</td>\n",
       "      <td>1.40062</td>\n",
       "      <td>-0.567570</td>\n",
       "      <td>-0.412128</td>\n",
       "      <td>-0.539738</td>\n",
       "      <td>-0.880597</td>\n",
       "      <td>1.40062</td>\n",
       "      <td>-0.664391</td>\n",
       "      <td>0.664391</td>\n",
       "      <td>-1.390952</td>\n",
       "      <td>-0.818004</td>\n",
       "      <td>-1.784475</td>\n",
       "      <td>-0.964633</td>\n",
       "    </tr>\n",
       "    <tr>\n",
       "      <th>1</th>\n",
       "      <td>-0.601662</td>\n",
       "      <td>0.863365</td>\n",
       "      <td>-0.421596</td>\n",
       "      <td>-0.102327</td>\n",
       "      <td>-0.224362</td>\n",
       "      <td>-0.539738</td>\n",
       "      <td>-0.71397</td>\n",
       "      <td>-0.567570</td>\n",
       "      <td>2.426431</td>\n",
       "      <td>-0.539738</td>\n",
       "      <td>1.135593</td>\n",
       "      <td>-0.71397</td>\n",
       "      <td>-0.664391</td>\n",
       "      <td>0.664391</td>\n",
       "      <td>0.551055</td>\n",
       "      <td>-0.301624</td>\n",
       "      <td>-1.157462</td>\n",
       "      <td>0.536863</td>\n",
       "    </tr>\n",
       "    <tr>\n",
       "      <th>2</th>\n",
       "      <td>-0.601662</td>\n",
       "      <td>0.863365</td>\n",
       "      <td>-0.421596</td>\n",
       "      <td>-0.102327</td>\n",
       "      <td>-0.224362</td>\n",
       "      <td>-0.539738</td>\n",
       "      <td>-0.71397</td>\n",
       "      <td>-0.567570</td>\n",
       "      <td>2.426431</td>\n",
       "      <td>-0.539738</td>\n",
       "      <td>1.135593</td>\n",
       "      <td>-0.71397</td>\n",
       "      <td>-0.664391</td>\n",
       "      <td>0.664391</td>\n",
       "      <td>0.551054</td>\n",
       "      <td>-0.301624</td>\n",
       "      <td>-0.530449</td>\n",
       "      <td>-0.864533</td>\n",
       "    </tr>\n",
       "    <tr>\n",
       "      <th>3</th>\n",
       "      <td>-0.601662</td>\n",
       "      <td>0.863365</td>\n",
       "      <td>-0.421596</td>\n",
       "      <td>-0.102327</td>\n",
       "      <td>-0.224362</td>\n",
       "      <td>-0.539738</td>\n",
       "      <td>1.40062</td>\n",
       "      <td>-0.567570</td>\n",
       "      <td>-0.412128</td>\n",
       "      <td>-0.539738</td>\n",
       "      <td>-0.880597</td>\n",
       "      <td>1.40062</td>\n",
       "      <td>-0.664391</td>\n",
       "      <td>0.664391</td>\n",
       "      <td>-1.314970</td>\n",
       "      <td>0.214757</td>\n",
       "      <td>0.096564</td>\n",
       "      <td>-0.814483</td>\n",
       "    </tr>\n",
       "    <tr>\n",
       "      <th>4</th>\n",
       "      <td>-0.601662</td>\n",
       "      <td>0.863365</td>\n",
       "      <td>-0.421596</td>\n",
       "      <td>-0.102327</td>\n",
       "      <td>-0.224362</td>\n",
       "      <td>-0.539738</td>\n",
       "      <td>-0.71397</td>\n",
       "      <td>1.761897</td>\n",
       "      <td>-0.412128</td>\n",
       "      <td>-0.539738</td>\n",
       "      <td>1.135593</td>\n",
       "      <td>-0.71397</td>\n",
       "      <td>-0.664391</td>\n",
       "      <td>0.664391</td>\n",
       "      <td>0.937446</td>\n",
       "      <td>0.731138</td>\n",
       "      <td>0.723578</td>\n",
       "      <td>-0.864533</td>\n",
       "    </tr>\n",
       "  </tbody>\n",
       "</table>\n",
       "</div>"
      ],
      "text/plain": [
       "   encode__property_type_Flat  encode__property_type_House  \\\n",
       "0                    1.662062                    -1.158259   \n",
       "1                   -0.601662                     0.863365   \n",
       "2                   -0.601662                     0.863365   \n",
       "3                   -0.601662                     0.863365   \n",
       "4                   -0.601662                     0.863365   \n",
       "\n",
       "   encode__property_type_Portions  encode__property_type_other  \\\n",
       "0                       -0.421596                    -0.102327   \n",
       "1                       -0.421596                    -0.102327   \n",
       "2                       -0.421596                    -0.102327   \n",
       "3                       -0.421596                    -0.102327   \n",
       "4                       -0.421596                    -0.102327   \n",
       "\n",
       "   encode__city_Faisalabad  encode__city_Islamabad  encode__city_Karachi  \\\n",
       "0                -0.224362               -0.539738               1.40062   \n",
       "1                -0.224362               -0.539738              -0.71397   \n",
       "2                -0.224362               -0.539738              -0.71397   \n",
       "3                -0.224362               -0.539738               1.40062   \n",
       "4                -0.224362               -0.539738              -0.71397   \n",
       "\n",
       "   encode__city_Lahore  encode__city_Rawalpindi  \\\n",
       "0            -0.567570                -0.412128   \n",
       "1            -0.567570                 2.426431   \n",
       "2            -0.567570                 2.426431   \n",
       "3            -0.567570                -0.412128   \n",
       "4             1.761897                -0.412128   \n",
       "\n",
       "   encode__province_name_Islamabad Capital  encode__province_name_Punjab  \\\n",
       "0                                -0.539738                     -0.880597   \n",
       "1                                -0.539738                      1.135593   \n",
       "2                                -0.539738                      1.135593   \n",
       "3                                -0.539738                     -0.880597   \n",
       "4                                -0.539738                      1.135593   \n",
       "\n",
       "   encode__province_name_Sindh  encode__purpose_For Rent  \\\n",
       "0                      1.40062                 -0.664391   \n",
       "1                     -0.71397                 -0.664391   \n",
       "2                     -0.71397                 -0.664391   \n",
       "3                      1.40062                 -0.664391   \n",
       "4                     -0.71397                 -0.664391   \n",
       "\n",
       "   encode__purpose_For Sale  remainder__longitude  remainder__baths  \\\n",
       "0                  0.664391             -1.390952         -0.818004   \n",
       "1                  0.664391              0.551055         -0.301624   \n",
       "2                  0.664391              0.551054         -0.301624   \n",
       "3                  0.664391             -1.314970          0.214757   \n",
       "4                  0.664391              0.937446          0.731138   \n",
       "\n",
       "   remainder__bedrooms  remainder__Total_Area  \n",
       "0            -1.784475              -0.964633  \n",
       "1            -1.157462               0.536863  \n",
       "2            -0.530449              -0.864533  \n",
       "3             0.096564              -0.814483  \n",
       "4             0.723578              -0.864533  "
      ]
     },
     "execution_count": 101,
     "metadata": {},
     "output_type": "execute_result"
    }
   ],
   "source": [
    "x_train = pd.DataFrame(x_train,columns=x.columns)\n",
    "x_train.head()"
   ]
  },
  {
   "cell_type": "code",
   "execution_count": null,
   "metadata": {},
   "outputs": [],
   "source": []
  },
  {
   "cell_type": "markdown",
   "metadata": {},
   "source": [
    "## RandomForestRegressor"
   ]
  },
  {
   "cell_type": "code",
   "execution_count": 137,
   "metadata": {},
   "outputs": [
    {
     "name": "stdout",
     "output_type": "stream",
     "text": [
      "mean squared error is  :  9129785007573.365\n",
      "r2_score is :  0.8320693969176447\n",
      "mean_absolute_error is :  1739048.909867826\n"
     ]
    }
   ],
   "source": [
    "from sklearn.metrics import mean_absolute_error,mean_squared_error,r2_score\n",
    "from sklearn.ensemble import RandomForestRegressor,GradientBoostingRegressor\n",
    "model=RandomForestRegressor(n_estimators=300,\n",
    "                            max_depth=50,\n",
    "                            min_samples_split=5,\n",
    "                            min_samples_leaf=3,\n",
    "                            max_features='sqrt',\n",
    "                            bootstrap=True)\n",
    "model.fit(x_train,y_train)\n",
    "y_pred_rf=model.predict(x_test)\n",
    "mse=mean_squared_error(y_pred_rf,y_test)\n",
    "# Random Forest Regression acuuracy with test size\n",
    "score = r2_score(y_pred_rf,y_test)\n",
    "mae = mean_absolute_error(y_pred_rf,y_test)\n",
    "\n",
    "print(\"mean squared error is  : \",mse)\n",
    "print(\"r2_score is : \",score)\n",
    "print(\"mean_absolute_error is : \",mae)"
   ]
  },
  {
   "cell_type": "code",
   "execution_count": 138,
   "metadata": {},
   "outputs": [
    {
     "name": "stdout",
     "output_type": "stream",
     "text": [
      "Mean Cross-Validation MSE:  9515236804759.037\n"
     ]
    }
   ],
   "source": [
    "from sklearn.model_selection import cross_val_score\n",
    "\n",
    "# Cross-validation\n",
    "cv_mse = cross_val_score(model, x_train, y_train, scoring='neg_mean_squared_error', cv=5)\n",
    "print(\"Mean Cross-Validation MSE: \", -cv_mse.mean())\n"
   ]
  },
  {
   "cell_type": "code",
   "execution_count": 107,
   "metadata": {},
   "outputs": [
    {
     "data": {
      "image/png": "[encoded data removed]",
      "text/plain": [
       "<Figure size 640x480 with 1 Axes>"
      ]
     },
     "metadata": {},
     "output_type": "display_data"
    }
   ],
   "source": [
    "# 2. Predicted vs. Actual Values (evaluates model fit visually)\n",
    "plt.scatter(y_test, y_pred_rf, color='blue')\n",
    "plt.xlabel('Actual Values')\n",
    "plt.ylabel('Predicted Values')\n",
    "plt.title('Predicted vs. Actual Values')\n",
    "plt.plot(y_test, y_test, color='red', linestyle='--')  # Perfect prediction line\n",
    "plt.show()"
   ]
  },
  {
   "cell_type": "markdown",
   "metadata": {},
   "source": [
    "### GradientBoostingRegressor"
   ]
  },
  {
   "cell_type": "code",
   "execution_count": 133,
   "metadata": {},
   "outputs": [
    {
     "name": "stdout",
     "output_type": "stream",
     "text": [
      "mean squared error is  :  14095691796188.273\n",
      "r2_score is :  0.7154011723041942\n",
      "mean_absolute_error is :  2402465.852701292\n"
     ]
    }
   ],
   "source": [
    "from sklearn.metrics import mean_absolute_error,mean_squared_error,r2_score\n",
    "from sklearn.ensemble import RandomForestRegressor,GradientBoostingRegressor\n",
    "model=GradientBoostingRegressor()\n",
    "model.fit(x_train,y_train)\n",
    "y_pred=model.predict(x_test)\n",
    "mse=mean_squared_error(y_pred,y_test)\n",
    "# Random Forest Regression acuuracy with test size\n",
    "score = r2_score(y_pred,y_test)\n",
    "mae = mean_absolute_error(y_pred,y_test)\n",
    "\n",
    "print(\"mean squared error is  : \",mse)\n",
    "print(\"r2_score is : \",score)\n",
    "print(\"mean_absolute_error is : \",mae)"
   ]
  },
  {
   "cell_type": "code",
   "execution_count": null,
   "metadata": {},
   "outputs": [],
   "source": []
  },
  {
   "cell_type": "markdown",
   "metadata": {},
   "source": [
    "## DecisionTreeRegressor"
   ]
  },
  {
   "cell_type": "code",
   "execution_count": 134,
   "metadata": {},
   "outputs": [
    {
     "name": "stdout",
     "output_type": "stream",
     "text": [
      "mean squared error is  :  12820235149386.262\n",
      "r2_score is :  0.8088937261626932\n",
      "mean_absolute_error is :  1856497.0650664289\n"
     ]
    }
   ],
   "source": [
    "from sklearn.tree import DecisionTreeRegressor\n",
    "model=DecisionTreeRegressor()\n",
    "model.fit(x_train,y_train)\n",
    "y_pred=model.predict(x_test)\n",
    "mse=mean_squared_error(y_pred,y_test)\n",
    "# Random Forest Regression acuuracy with test size\n",
    "score = r2_score(y_pred,y_test)\n",
    "mae = mean_absolute_error(y_pred,y_test)\n",
    "\n",
    "print(\"mean squared error is  : \",mse)\n",
    "print(\"r2_score is : \",score)\n",
    "print(\"mean_absolute_error is : \",mae)"
   ]
  },
  {
   "cell_type": "code",
   "execution_count": null,
   "metadata": {},
   "outputs": [],
   "source": []
  },
  {
   "cell_type": "code",
   "execution_count": null,
   "metadata": {},
   "outputs": [],
   "source": []
  },
  {
   "cell_type": "code",
   "execution_count": 220,
   "metadata": {},
   "outputs": [
    {
     "name": "stdout",
     "output_type": "stream",
     "text": [
      "0.9212762857064415\n"
     ]
    }
   ],
   "source": [
    "print(r2_score(y_test,y_pred_rf))"
   ]
  },
  {
   "cell_type": "code",
   "execution_count": 42,
   "metadata": {},
   "outputs": [],
   "source": [
    "from sklearn.ensemble import RandomForestRegressor\n",
    "from sklearn.model_selection import train_test_split\n",
    "import joblib\n",
    "import numpy as np\n",
    "import pickle\n",
    "\n",
    "# Save the model to a file using joblib\n",
    "decision_tree_regressor = DecisionTreeRegressor()\n",
    "\n",
    "decision_tree_regressor.fit(x_train,y_train)\n",
    "\n",
    "\n"
   ]
  },
  {
   "cell_type": "markdown",
   "metadata": {},
   "source": [
    "# Model Loading code"
   ]
  },
  {
   "cell_type": "code",
   "execution_count": null,
   "metadata": {},
   "outputs": [],
   "source": [
    "# # Save the model using pickle\n",
    "with open('decision_tree_for_house_price.pkl', 'wb') as f:\n",
    "    pickle.dump(decision_tree_regressor, f)\n",
    "\n",
    "\n",
    "# # Load your trained model\n",
    "with open('decision_tree_for_house_price.pkl', 'rb') as f:\n",
    "    model = pickle.load(f)\n",
    "\n",
    "# # Now `model` will have the `predict()` method"
   ]
  },
  {
   "cell_type": "markdown",
   "metadata": {},
   "source": [
    "### DecisionTreeRegressor"
   ]
  },
  {
   "cell_type": "code",
   "execution_count": 221,
   "metadata": {},
   "outputs": [
    {
     "name": "stdout",
     "output_type": "stream",
     "text": [
      "Random Forest Regressor :  7431296497368.613\n"
     ]
    }
   ],
   "source": [
    "from sklearn.tree import DecisionTreeRegressor\n",
    "from sklearn.ensemble import RandomForestRegressor\n",
    "rf_regressor=DecisionTreeRegressor().fit(x_train,y_train)\n",
    "y_pred_rf=rf_regressor.predict(x_test)\n",
    "RFr=mean_squared_error(y_pred_rf,y_test)\n",
    "# Random Forest Regression acuuracy with test size\n",
    "print(\"Random Forest Regressor : \",RFr)"
   ]
  },
  {
   "cell_type": "code",
   "execution_count": 222,
   "metadata": {},
   "outputs": [
    {
     "name": "stdout",
     "output_type": "stream",
     "text": [
      "0.8874390818460489\n"
     ]
    }
   ],
   "source": [
    "print(r2_score(y_test,y_pred_rf))"
   ]
  }
 ],
 "metadata": {
  "kernelspec": {
   "display_name": "python_eda",
   "language": "python",
   "name": "python3"
  },
  "language_info": {
   "codemirror_mode": {
    "name": "ipython",
    "version": 3
   },
   "file_extension": ".py",
   "mimetype": "text/x-python",
   "name": "python",
   "nbconvert_exporter": "python",
   "pygments_lexer": "ipython3",
   "version": "3.9.19"
  }
 },
 "nbformat": 4,
 "nbformat_minor": 2
}
